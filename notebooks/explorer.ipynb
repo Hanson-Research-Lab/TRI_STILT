{
 "metadata": {
  "language_info": {
   "codemirror_mode": {
    "name": "ipython",
    "version": 3
   },
   "file_extension": ".py",
   "mimetype": "text/x-python",
   "name": "python",
   "nbconvert_exporter": "python",
   "pygments_lexer": "ipython3",
   "version": "3.7.7-final"
  },
  "orig_nbformat": 2,
  "kernelspec": {
   "name": "python37764bitstiltvenvd0b5b9a6265a460294244206ccd6e7b1",
   "display_name": "Python 3.7.7 64-bit ('stilt': venv)"
  }
 },
 "nbformat": 4,
 "nbformat_minor": 2,
 "cells": [
  {
   "cell_type": "code",
   "execution_count": 5,
   "metadata": {},
   "outputs": [],
   "source": [
    "\n",
    "#Basic py: \n",
    "import numpy as np\n",
    "import matplotlib.pyplot as plt\n",
    "import pandas as pd\n",
    "import datetime\n",
    "import os\n",
    "import math\n",
    "import json\n",
    "from urllib.request import urlopen\n",
    "import glob\n",
    "#Vis\n",
    "#import seaborn as sns\n",
    "\n",
    "#Geo\n",
    "import geopandas as gpd\n",
    "import fiona\n",
    "from shapely.geometry import Point\n",
    "import descartes\n",
    "import contextily as ctx #Basemaps \n",
    "import xarray as xr \n",
    "\n",
    "\n"
   ]
  },
  {
   "cell_type": "code",
   "execution_count": 2,
   "metadata": {},
   "outputs": [],
   "source": [
    "def nc_open(path):\n",
    "    \"\"\"\n",
    "    A function to open netcdf4 files. Requires xarray\n",
    "    ===\n",
    "    Input:\n",
    "    path - path to the cdf file\n",
    "\n",
    "    Output: \n",
    "    df - converted cdf file to dataframe object\n",
    "    \"\"\"\n",
    "    df = xr.open_dataarray(path)\n",
    "    return df.to_dataframe().reset_index()"
   ]
  },
  {
   "cell_type": "code",
   "execution_count": 3,
   "metadata": {},
   "outputs": [],
   "source": [
    "def file_to_geoframe(path):\n",
    "    \"\"\"A function to take a shapefile with concentration element and convert to a geodataframe\n",
    "    \"\"\"\n",
    "    gdf = gpd.read_file(path)\n",
    "    gdf = gpd.GeoDataFrame(gdf,crs=gdf.crs)\n",
    "\n",
    "    try:\n",
    "        gdf['CONC']=gdf['CONC'].astype(float)\n",
    "    except:\n",
    "        print('No concentration data')\n",
    "\n",
    "    gdf = gdf.to_crs('epsg:3857')\n",
    "    return gdf\n",
    "\n",
    "def stilt_post_processing(stilt_df, threshold):\n",
    "    '''Takes a stilt particle output, in a pandas dataframe, and converts to a geopandas object.  \n",
    "\n",
    "    Input:\n",
    "    ----------\n",
    "    stilt_df - an output coming from nc_open, based upon netcdf to pandas conversion\n",
    "    threshold - a value for filtering - if null no filtering is performed on the data. \n",
    "\n",
    "    Returns:\n",
    "    sim_avg: a geodataframe of the average non-log_conc per the simulation run (48 hr with current setup) transformed to points for comparison\n",
    "    '''  \n",
    "    if threshold != None:\n",
    "        stilt_df = stilt_df[stilt_df.foot>threshold] \n",
    "    \n",
    "    sim_avg = stilt_df.groupby(['lat','lon']).agg({'foot':'mean'}).reset_index()\n",
    "\n",
    "    #Converting to a geo-type object\n",
    "    sim_avg = gpd.GeoDataFrame(sim_avg, geometry=gpd.points_from_xy(sim_avg.lon, sim_avg.lat)).set_crs(epsg=4326)\n",
    "    sim_avg = sim_avg.to_crs(epsg=3857)\n",
    "    return sim_avg"
   ]
  },
  {
   "cell_type": "code",
   "execution_count": 6,
   "metadata": {},
   "outputs": [],
   "source": [
    "stilt_11189_4071 = nc_open('/home/boogie2/Hanson_Lab/TRI_STILT/data/raw/STILT/090420_base_run/199001010000_-111.89273_40.70739_0_foot.nc')\n",
    "stilt_11189_4071_sim_avg = stilt_post_processing(stilt_11189_4071,threshold=0.001)"
   ]
  },
  {
   "cell_type": "code",
   "execution_count": 7,
   "metadata": {},
   "outputs": [
    {
     "output_type": "execute_result",
     "data": {
      "text/plain": "        lat      lon      foot                           geometry\n0    40.705 -111.895  0.171536  POINT (-12456094.422 4968926.125)\n1    40.715 -111.895  0.189736  POINT (-12456094.422 4970394.680)\n2    40.725 -111.915  0.001140  POINT (-12458320.812 4971863.456)\n3    40.725 -111.905  0.001140  POINT (-12457207.617 4971863.456)\n4    40.725 -111.895  0.068439  POINT (-12456094.422 4971863.456)\n..      ...      ...       ...                                ...\n507  42.015 -109.005  0.003177  POINT (-12134381.094 5163226.636)\n508  42.025 -109.005  0.003492  POINT (-12134381.094 5164725.059)\n509  42.035 -109.005  0.003779  POINT (-12134381.094 5166223.717)\n510  42.045 -109.005  0.004028  POINT (-12134381.094 5167722.611)\n511  42.055 -109.005  0.004231  POINT (-12134381.094 5169221.741)\n\n[512 rows x 4 columns]",
      "text/html": "<div>\n<style scoped>\n    .dataframe tbody tr th:only-of-type {\n        vertical-align: middle;\n    }\n\n    .dataframe tbody tr th {\n        vertical-align: top;\n    }\n\n    .dataframe thead th {\n        text-align: right;\n    }\n</style>\n<table border=\"1\" class=\"dataframe\">\n  <thead>\n    <tr style=\"text-align: right;\">\n      <th></th>\n      <th>lat</th>\n      <th>lon</th>\n      <th>foot</th>\n      <th>geometry</th>\n    </tr>\n  </thead>\n  <tbody>\n    <tr>\n      <th>0</th>\n      <td>40.705</td>\n      <td>-111.895</td>\n      <td>0.171536</td>\n      <td>POINT (-12456094.422 4968926.125)</td>\n    </tr>\n    <tr>\n      <th>1</th>\n      <td>40.715</td>\n      <td>-111.895</td>\n      <td>0.189736</td>\n      <td>POINT (-12456094.422 4970394.680)</td>\n    </tr>\n    <tr>\n      <th>2</th>\n      <td>40.725</td>\n      <td>-111.915</td>\n      <td>0.001140</td>\n      <td>POINT (-12458320.812 4971863.456)</td>\n    </tr>\n    <tr>\n      <th>3</th>\n      <td>40.725</td>\n      <td>-111.905</td>\n      <td>0.001140</td>\n      <td>POINT (-12457207.617 4971863.456)</td>\n    </tr>\n    <tr>\n      <th>4</th>\n      <td>40.725</td>\n      <td>-111.895</td>\n      <td>0.068439</td>\n      <td>POINT (-12456094.422 4971863.456)</td>\n    </tr>\n    <tr>\n      <th>...</th>\n      <td>...</td>\n      <td>...</td>\n      <td>...</td>\n      <td>...</td>\n    </tr>\n    <tr>\n      <th>507</th>\n      <td>42.015</td>\n      <td>-109.005</td>\n      <td>0.003177</td>\n      <td>POINT (-12134381.094 5163226.636)</td>\n    </tr>\n    <tr>\n      <th>508</th>\n      <td>42.025</td>\n      <td>-109.005</td>\n      <td>0.003492</td>\n      <td>POINT (-12134381.094 5164725.059)</td>\n    </tr>\n    <tr>\n      <th>509</th>\n      <td>42.035</td>\n      <td>-109.005</td>\n      <td>0.003779</td>\n      <td>POINT (-12134381.094 5166223.717)</td>\n    </tr>\n    <tr>\n      <th>510</th>\n      <td>42.045</td>\n      <td>-109.005</td>\n      <td>0.004028</td>\n      <td>POINT (-12134381.094 5167722.611)</td>\n    </tr>\n    <tr>\n      <th>511</th>\n      <td>42.055</td>\n      <td>-109.005</td>\n      <td>0.004231</td>\n      <td>POINT (-12134381.094 5169221.741)</td>\n    </tr>\n  </tbody>\n</table>\n<p>512 rows × 4 columns</p>\n</div>"
     },
     "metadata": {},
     "execution_count": 7
    }
   ],
   "source": [
    "stilt_11189_4071_sim_avg"
   ]
  },
  {
   "cell_type": "code",
   "execution_count": null,
   "metadata": {},
   "outputs": [],
   "source": []
  }
 ]
}