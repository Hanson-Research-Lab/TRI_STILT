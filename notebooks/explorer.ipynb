{
 "metadata": {
  "language_info": {
   "codemirror_mode": {
    "name": "ipython",
    "version": 3
   },
   "file_extension": ".py",
   "mimetype": "text/x-python",
   "name": "python",
   "nbconvert_exporter": "python",
   "pygments_lexer": "ipython3",
   "version": "3.7.7-final"
  },
  "orig_nbformat": 2,
  "kernelspec": {
   "name": "python37764bitstiltvenvd0b5b9a6265a460294244206ccd6e7b1",
   "display_name": "Python 3.7.7 64-bit ('stilt': venv)"
  }
 },
 "nbformat": 4,
 "nbformat_minor": 2,
 "cells": [
  {
   "cell_type": "code",
   "execution_count": 5,
   "metadata": {},
   "outputs": [],
   "source": [
    "\n",
    "#Basic py: \n",
    "import numpy as np\n",
    "import matplotlib.pyplot as plt\n",
    "import pandas as pd\n",
    "import datetime\n",
    "import os\n",
    "import math\n",
    "import json\n",
    "from urllib.request import urlopen\n",
    "import glob\n",
    "#Vis\n",
    "#import seaborn as sns\n",
    "\n",
    "#Geo\n",
    "import geopandas as gpd\n",
    "import fiona\n",
    "from shapely.geometry import Point\n",
    "import descartes\n",
    "import contextily as ctx #Basemaps \n",
    "import xarray as xr "
   ]
  },
  {
   "cell_type": "code",
   "execution_count": null,
   "metadata": {},
   "outputs": [],
   "source": []
  }
 ]
}