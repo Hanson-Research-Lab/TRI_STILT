{
 "cells": [
  {
   "cell_type": "markdown",
   "metadata": {},
   "source": [
    "# TRI: Descriptive Analysis\n",
    "\n",
    "Greg Lee\n",
    "<br> 10.01.2020"
   ]
  },
  {
   "cell_type": "markdown",
   "metadata": {},
   "source": [
    "**WHAT IS THE TOXIC RELEASE INVENTORY (TRI)** \n",
    "\n",
    "TRI tracks the management of certain toxic chemicals that may pose a threat to human health and the environment. U.S. facilities in different industry sectors must report annually how much of each chemical is released to the environment and/or managed through recycling, energy recovery and treatment. (A \"release\" of a chemical means that it is emitted to the air or water, or placed in some type of land disposal.) [1]\n",
    "\n",
    "---\n",
    "\n",
    "**WHICH CHEMICALS AND COMPANIES ARE REQUIRED TO REPORT?**\n",
    "- Have 10 or more full-time employee equivalents\n",
    "- Facility is included in the following NAICS codes:\n",
    "    - Manufacturing of: food, beverage, apparel, leather, wood, paper, petroleum, coal, chemical, plastics, rubber, minerals, metals, machinery, computers, electronics, applicance, transportation, furniture and more. \n",
    "- Facility uses chemical in quanitities greater than establihed threshold in the course of a calendar year. (changes year to year)\n",
    "\n",
    "---\n",
    "\n",
    "**WHICH CHEMICALS ARE TRACKED?**\n",
    "\n",
    "Those associated with:<br>\n",
    "\n",
    "1. Cancer or other chronic human health effects\n",
    "2. Significant adverse acute human health effects\n",
    "3. Significant adverse environmental effects\n",
    "\n",
    "There are currently 755 individually listed chemicals and 33 chemical categories covered by the TRI Program. Facilities that manufacture, process or otherwise use these chemicals in amounts above established levels must submit annual reporting forms for each chemical. Note that the TRI chemical list doesn't include all toxic chemicals used in the U.S.\n",
    "\n",
    "--- \n",
    "\n",
    "**WHEN WAS THE PROGRAM STARTED**\n",
    "\n",
    "In 1986, Congress passed the Emergency Planning and Community Right-to-Know Act (EPCRA) to support and promote emergency planning and to provide the public with information about releases of toxic chemicals in their community. Section 313 of EPCRA established the Toxics Release Inventory. Data is collected on a yearly basis. \n",
    "\n",
    "[1] - https://www.epa.gov/toxics-release-inventory-tri-program/what-toxics-release-inventory\n",
    "<br>[2] - https://www.epa.gov/toxics-release-inventory-tri-program/tri-covered-industry-sectors "
   ]
  },
  {
   "cell_type": "code",
   "execution_count": 2,
   "metadata": {},
   "outputs": [],
   "source": [
    "#Libraries\n",
    "\n",
    "#Basic py: \n",
    "import numpy as np\n",
    "import matplotlib.pyplot as plt\n",
    "import pandas as pd\n",
    "import datetime\n",
    "import os\n",
    "import math\n",
    "\n",
    "#Geo\n",
    "import geopandas as gpd\n",
    "import fiona\n",
    "from shapely.geometry import Point\n",
    "import descartes\n",
    "import contextily as ctx #Basemaps "
   ]
  },
  {
   "source": [
    "## Load the Data"
   ],
   "cell_type": "markdown",
   "metadata": {}
  },
  {
   "cell_type": "code",
   "execution_count": 3,
   "metadata": {
    "tags": []
   },
   "outputs": [
    {
     "output_type": "stream",
     "name": "stdout",
     "text": "check\nFrom 1990-1999 there are 5733 data entries and 114 features\n"
    }
   ],
   "source": [
    "#Import all data and merge into one dataframe\n",
    "path = \"/home/boogie2/Hanson_Lab/TRI_STILT/data/raw/Toxic_Release_Inventory_raw\" \n",
    "for index, files in enumerate(os.listdir(path)):\n",
    "    temp_df = pd.read_csv(path + \"/\" + files)\n",
    "\n",
    "    #Columns are standard, merge the dataset on that\n",
    "    if index == 0:\n",
    "        tri_df = temp_df\n",
    "        print('check')\n",
    "    else:\n",
    "        tri_df = tri_df.append(temp_df)\n",
    "        \n",
    "#Clean up the data\n",
    "tri_df.rename(columns=lambda x: ' '.join(x.split('.')[1:]), inplace=True)\n",
    "tri_df.rename(columns=lambda x: x.replace(' ',''), inplace=True)\n",
    "\n",
    "#Select the data from 1990-1999 which is air pollution\n",
    "select_tri = tri_df.loc[(tri_df['YEAR']>=1990) & (tri_df[\"YEAR\"] < 2000)]\n",
    "\n",
    "select_tri_air = select_tri[(select_tri['51-FUGITIVEAIR']>0) | (select_tri['52-STACKAIR']>0)]\n",
    "print(\"From 1990-1999 there are {0} data entries and {1} features\".format(select_tri.shape[0],select_tri.shape[1]))"
   ]
  },
  {
   "cell_type": "markdown",
   "metadata": {},
   "source": [
    "The loaded shape of the data is what we expect. The 114 features represent details about the location, industry and toxin. For more information on this, please visit the EPAs website (https://www.epa.gov/toxics-release-inventory-tri-program/descriptions-tri-data-terms#popup_1)"
   ]
  },
  {
   "cell_type": "markdown",
   "metadata": {},
   "source": [
    "## Data Cleaning"
   ]
  },
  {
   "cell_type": "code",
   "execution_count": 4,
   "metadata": {
    "tags": []
   },
   "outputs": [
    {
     "output_type": "stream",
     "name": "stdout",
     "text": "YEAR                       0.000000\n62-M26                     0.000000\n62-M24                     0.000000\n62-M20                     0.000000\nOFF-SITERELEASETOTAL       0.000000\n62-M99                     0.000000\n62-M94                     0.000000\n62-M90                     0.000000\n62-M79                     0.000000\n62-M73                     0.000000\n62-M65                     0.000000\n62-M64                     0.000000\n62-M67                     0.000000\n62-M66                     0.000000\n62-M63                     0.000000\n62-M72                     0.000000\n62-M82                     0.000000\n62-M81                     0.000000\n62-M71                     0.000000\n62-M61METAL                0.000000\n62-M40METAL                0.000000\n62-M62                     0.000000\n62-M41                     0.000000\n62-M10                     0.000000\n62-M28                     0.000000\n62-M93                     0.000000\nOFF-SITERECYCLEDTOTAL      0.000000\n62-M56                     0.000000\nPRODUCTIONWSTE(81-87)      0.000000\n87-TREATMENTOFFSITE        0.000000\n86-TREATMENTONSITE         0.000000\n85-RECYCLINGOFFSIT         0.000000\n84-RECYCLINGONSITE         0.000000\n83-ENERGYRECOVEROF         0.000000\n82-ENERGYRECOVERON         0.000000\n81D-OFF-SITEOTHERR         0.000000\n81C-OFF-SITECONTAIN        0.000000\n81B-ON-SITEOTHER           0.000000\n81A-ON-SITECONTAINED       0.000000\n61-POTW-TRNSTRT            0.000000\n81-RELEASES                0.000000\n62-TOTALTRANSFER           0.000000\n62-UNCLASSIFIED            0.000000\nOFF-SITETREATEDTOTAL       0.000000\n62-M95                     0.000000\n62-M69                     0.000000\n62-M61NON-METAL            0.000000\n62-M54                     0.000000\n62-M50                     0.000000\n62-M40NON-METAL            0.000000\nOFF-SITEENERGYRECOVERYT    0.000000\n62-M92                     0.000000\nTOTALRELEASES              0.000000\n61-POTW-TRNSRLSE           0.000000\nPOTW-TOTALTRANSFERS        0.000000\n554-OTHERDISPOSAL          0.000000\nCAS#/COMPOUNDID            0.000000\nCHEMICAL                   0.000000\nDOC_CTRL_NUM               0.000000\nFRSID                      0.000000\nON-SITERELEASETOTAL        0.000000\nPRIMARYNAICS               0.000000\nINDUSTRYSECTOR             0.000000\nINDUSTRYSECTORCODE         0.000000\nFEDERALFACILITY            0.000000\nLONGITUDE                  0.000000\nLATITUDE                   0.000000\nZIP                        0.000000\nST                         0.000000\nCOUNTY                     0.000000\nCITY                       0.000000\nSTREETADDRESS              0.000000\nFACILITYNAME               0.000000\nSRSID                      0.000000\nCLEANAIRACTCHEMICAL        0.000000\nTRIFD                      0.000000\nMETAL                      0.000000\n542-UNDERGROUNDCII-V       0.000000\n541-UNDERGROUNDCLI         0.000000\n54-UNDERGROUND             0.000000\nCLASSIFICATION             0.000000\n551B-OTHERLANDFILLS        0.000000\n552-LANDTREATMENT          0.000000\n553-SURFACEIMPNDMNT        0.000000\n553A-RCRASURFACEIM         0.000000\n551-LANDFILLS              0.000000\n53-WATER                   0.000000\n52-STACKAIR                0.000000\n553B-OTHERSURFACEI         0.000000\n51-FUGITIVEAIR             0.000000\nUNITOFMEASURE              0.000000\nFORMTYPE                   0.000000\nCARCINOGEN                 0.000000\nMETALCATEGORY              0.000000\n551A-RCRACLANDFILL         0.000000\nPRIMARYSIC                 0.000471\n89-PRODUCTIONRATIO         0.165332\n88-ONE-TIMERELEASE         0.165568\nPARENTCONAME               0.238342\nPARENTCODBNUM              0.354216\nSIC2                       0.833961\nSIC3                       0.922280\nSIC4                       0.990579\nBIA                        0.995761\nTRIBE                      0.995761\nSIC5                       0.995996\nSIC6                       0.996232\nPROD_RATIO_OR_ACTIVITY     1.000000\nNAICS3                     1.000000\nNAICS4                     1.000000\nNAICS5                     1.000000\nNAICS6                     1.000000\nNAICS2                     1.000000\n                           1.000000\ndtype: float64\n"
    }
   ],
   "source": [
    "#Percentage of data missing values\n",
    "pd.set_option('display.max_rows', 500)\n",
    "print(select_tri_air.isna().sum().sort_values()/select_tri_air.shape[0])"
   ]
  },
  {
   "cell_type": "markdown",
   "metadata": {},
   "source": [
    "Examination of the missing values showcases the highest number of missing values are found in the NAIC and SIC codes. This makes sense, as not all companies had multiple codes. Additionally, approximately 23% of the data is missing parent company data and binary release data. \n",
    "\n",
    "We will only keep data for which there is less than 20% of missing data. "
   ]
  },
  {
   "cell_type": "code",
   "execution_count": 5,
   "metadata": {},
   "outputs": [],
   "source": [
    "clean_index = select_tri_air.isna().sum()<math.floor(select_tri_air.shape[0]*0.20)\n",
    "select_tri_air_clean = select_tri_air.loc[:,clean_index.index[clean_index==True]]\n",
    "\n",
    "#Let's collect and analyze a subset of the data which focuses on TRI air releases\n",
    "select_tri_air_clean = select_tri_air_clean[['YEAR','TRIFD','FRSID','FACILITYNAME','CITY','COUNTY','ST','ZIP','LATITUDE','LONGITUDE',\n",
    "                           'INDUSTRYSECTORCODE','INDUSTRYSECTOR','CHEMICAL','CAS#/COMPOUNDID','METAL','CARCINOGEN' ,\n",
    "                           'UNITOFMEASURE','51-FUGITIVEAIR','52-STACKAIR','PRIMARYSIC','INDUSTRYSECTORCODE',\n",
    "                                             '88-ONE-TIMERELEASE','PRODUCTIONWSTE(81-87)']]"
   ]
  },
  {
   "cell_type": "markdown",
   "metadata": {},
   "source": [
    "## Selecting IARC Labelled \"Known\" Carcinogens\n",
    "\n",
    "The international agency for research on cancer created a listing of carcinogens with varying confidence. While the TRI data contains a carcinogen column, we decided to use the IARC classifications for chemical filtering. We find this measure to be more conservative. \n",
    "\n",
    "Ratings: \n",
    "<br>1 - Known Carcinogen\n",
    "<br>2A - Probably carcinogenic to humans\n",
    "<br>2B - Possibly carcinogenic to humans\n",
    "<br>3 - not classifiable as to its carcinogenicity to humans"
   ]
  },
  {
   "cell_type": "code",
   "execution_count": 6,
   "metadata": {
    "tags": []
   },
   "outputs": [
    {
     "output_type": "stream",
     "name": "stdout",
     "text": "There are 1079 chemicals with 6 features\n"
    }
   ],
   "source": [
    "#Import the IARC Data\n",
    "iarc_df = pd.read_csv('/home/boogie2/Hanson_Lab/TRI_STILT/data/raw/IARC_Class_Full_List.csv')\n",
    "\n",
    "#Standardize the Column Names\n",
    "iarc_df.rename(columns=lambda x: x.replace(' ','_'), inplace=True)\n",
    "iarc_df.rename(columns=lambda x: x.replace('.',''), inplace=True)\n",
    "\n",
    "#The CAS numbers are not standardized between groups. Let's change that!\n",
    "#A CASRN contains a first number (2-7 digits) - second number (2 digits) - third number - 1 digit=\n",
    "iarc_df.CAS_No = iarc_df.CAS_No.str.replace('-','').apply('{:0>9}'.format)\n",
    "iarc_df.CAS_No = iarc_df.CAS_No.str.replace('000000nan',str(np.nan))\n",
    "\n",
    "print(\"There are {0} chemicals with {1} features\".format(iarc_df.shape[0],iarc_df.shape[1]))"
   ]
  },
  {
   "cell_type": "code",
   "execution_count": 7,
   "metadata": {
    "tags": []
   },
   "outputs": [
    {
     "output_type": "stream",
     "name": "stdout",
     "text": "Data are present from 1990 to 1999\nThere are 900 total observations in the data\n"
    }
   ],
   "source": [
    "#Select those chemicals with a 1,2A or 2B designation (KNOWN CARCINOGENS)\n",
    "known_carc = iarc_df[iarc_df.Group != \"3\"]\n",
    "#Merge the data\n",
    "carc_sel_tri_air = known_carc.merge(select_tri_air_clean, \n",
    "                                    left_on='CAS_No', \n",
    "                                    right_on='CAS#/COMPOUNDID',\n",
    "                                    how='inner')\n",
    "\n",
    "print(\"Data are present from {0} to {1}\".format(carc_sel_tri_air['YEAR'].min(),carc_sel_tri_air['YEAR'].max()))\n",
    "print(\"There are {0} total observations in the data\".format(carc_sel_tri_air.shape[0]))"
   ]
  },
  {
   "cell_type": "code",
   "execution_count": 8,
   "metadata": {},
   "outputs": [],
   "source": [
    "#Fix those entries which have a \"see xx (other chemical)\"\n",
    "carc_sel_tri_air.loc[carc_sel_tri_air.Agent== \"Strong-inorganic-acid mists containing sulfuric acid (see Acid mists)\",\n",
    "       'Group'] = '1'\n",
    "\n",
    "carc_sel_tri_air.loc[carc_sel_tri_air.Agent== \"Bis(2-ethylhexyl) phthalate (see Di(2-ethylhexyl) phthalate)\",\n",
    "       'Group'] = '2B'\n",
    "\n",
    "#Clean up unnessessary/unusable information\n",
    "carc_sel_tri_air = carc_sel_tri_air.drop(columns=['CAS_No','Agent','Volume', 'Year', 'Additional_information'])"
   ]
  },
  {
   "cell_type": "code",
   "execution_count": 9,
   "metadata": {},
   "outputs": [],
   "source": [
    "#Histogram: total number of chemicals per each IARC bin \n",
    "fig,ax = plt.subplots(1,1,figsize=(12,6))\n",
    "ax = carc_sel_tri_air['Group'].value_counts().plot.bar()\n",
    "ax.set_xlabel('IARC Classification')\n",
    "ax.set_ylabel('Observations')\n",
    "ax.set_title('Histogram of TRI Carcinogenic Status')\n",
    "\n",
    "plt.close()"
   ]
  },
  {
   "cell_type": "markdown",
   "metadata": {},
   "source": [
    "## Descriptive Analysis"
   ]
  },
  {
   "cell_type": "code",
   "execution_count": 10,
   "metadata": {
    "tags": []
   },
   "outputs": [
    {
     "output_type": "stream",
     "name": "stdout",
     "text": "There are a total of 113 unique locations\nThere are a total of 32 unique chemicals\n"
    }
   ],
   "source": [
    "#Unique locations and chemicals\n",
    "uniq_locs = carc_sel_tri_air.groupby(['LATITUDE', 'LONGITUDE']).size().reset_index(name='Freq')\n",
    "uniq_chems = carc_sel_tri_air.groupby(['CAS#/COMPOUNDID']).size().reset_index(name='Freq')\n",
    "print(\"There are a total of {0} unique locations\".format(uniq_locs.shape[0]))\n",
    "print(\"There are a total of {0} unique chemicals\".format(uniq_chems.shape[0]))"
   ]
  },
  {
   "cell_type": "code",
   "execution_count": 11,
   "metadata": {
    "tags": []
   },
   "outputs": [
    {
     "output_type": "stream",
     "name": "stdout",
     "text": "Most common chemical\nSULFURIC ACID (1994 AND AFTER ACID AEROSOLS&quot; ONLY)&quot;    137\nNICKEL                                                  97\nSTYRENE                                                 84\nBENZENE                                                 82\nNAPHTHALENE                                             73\nName: CHEMICAL, dtype: int64\n\nLeast common chemicals\nEPICHLOROHYDRIN            2\nDIETHANOLAMINE             2\n2,4-D                      2\n4,4&#39;-METHYLENEDIANILINE    1\nN,N-DIMETHYLFORMAMIDE      1\nName: CHEMICAL, dtype: int64\n"
    }
   ],
   "source": [
    "#What are the most and least common chemicals\n",
    "agg_chems =carc_sel_tri_air['CHEMICAL'].value_counts()\n",
    "print(\"Most common chemical\")\n",
    "print(agg_chems.head(5))\n",
    "\n",
    "print(\"\\nLeast common chemicals\")\n",
    "print(agg_chems.tail(5))"
   ]
  },
  {
   "cell_type": "code",
   "execution_count": 12,
   "metadata": {
    "tags": []
   },
   "outputs": [
    {
     "output_type": "stream",
     "name": "stdout",
     "text": "Percentage of TRI Releases which have only Fugitive Release: 0.29%\nPercentage of TRI Releases which have only Stack Release: 0.18%\nPercentage of TRI Releases with both Fugitive and Stack: 0.53%\n"
    }
   ],
   "source": [
    "val = carc_sel_tri_air[carc_sel_tri_air['51-FUGITIVEAIR']>0].shape[0]/carc_sel_tri_air.shape[0]\n",
    "val2 = carc_sel_tri_air[carc_sel_tri_air['52-STACKAIR']>0].shape[0]/carc_sel_tri_air.shape[0]\n",
    "val3 = carc_sel_tri_air[(carc_sel_tri_air['51-FUGITIVEAIR']>0) & (carc_sel_tri_air['52-STACKAIR']>0)].shape[0]/carc_sel_tri_air.shape[0]\n",
    "\n",
    "print('Percentage of TRI Releases which have only Fugitive Release: {0:.2f}%'.format(val-val3))\n",
    "print('Percentage of TRI Releases which have only Stack Release: {0:.2f}%'.format(val2-val3))\n",
    "print('Percentage of TRI Releases with both Fugitive and Stack: {0:.2f}%'.format(val3))"
   ]
  },
  {
   "cell_type": "code",
   "execution_count": 13,
   "metadata": {
    "tags": []
   },
   "outputs": [
    {
     "output_type": "stream",
     "name": "stdout",
     "text": "Percentage of TRI Releases which contain a one time release: 7.56%\nApproximately 20% of the TRI values are missing this label though and remain unknown\n"
    }
   ],
   "source": [
    "val4 = carc_sel_tri_air[carc_sel_tri_air['88-ONE-TIMERELEASE']>0].shape[0]/carc_sel_tri_air.shape[0]\n",
    "print('Percentage of TRI Releases which contain a one time release: {0:.2f}%'.format(val4*100.00))\n",
    "print('Approximately 20% of the TRI values are missing this label though and remain unknown')"
   ]
  },
  {
   "cell_type": "code",
   "execution_count": 14,
   "metadata": {},
   "outputs": [],
   "source": [
    "#Plotting the total releases per year\n",
    "fig,ax = plt.subplots(1,1,figsize=(12, 7))\n",
    "carc_sel_tri_air['YEAR'].value_counts().sort_index().plot.bar(ax=ax)\n",
    "ax.set_xticklabels(sorted(carc_sel_tri_air['YEAR'].value_counts().index), rotation = 45, ha=\"right\")\n",
    "ax.set_xlabel('Year')\n",
    "ax.set_ylabel('Observations')\n",
    "ax.set_title('TRI Occurences per Year')\n",
    "\n",
    "\n",
    "plt.savefig('/home/boogie2/Hanson_Lab/TRI_STILT//figures/descriptive_analysis/Average_TRI.png')\n",
    "plt.close()"
   ]
  },
  {
   "cell_type": "markdown",
   "metadata": {},
   "source": [
    "## Visualizing Spatial Distributions "
   ]
  },
  {
   "cell_type": "code",
   "execution_count": 21,
   "metadata": {},
   "outputs": [],
   "source": [
    "#Where are the TRI Releases?\n",
    "gdf = gpd.GeoDataFrame(carc_sel_tri_air, geometry=gpd.points_from_xy(carc_sel_tri_air.LONGITUDE, carc_sel_tri_air.LATITUDE),crs='epsg:4326')\n",
    "gdf = gdf.to_crs(3857)\n",
    "\n",
    "fig, ax = plt.subplots(figsize = (10,10)) \n",
    "gdf.plot(ax = ax,markersize=20, marker='^', color='purple')\n",
    "\n",
    "#Add Title\n",
    "plt.title(\"Reporting TRI Facilities from 1990-1999\")\n",
    "\n",
    "#Add Legend\n",
    "plt.legend(['TRI Reporting Facility Locations'], loc='lower right')\n",
    "\n",
    "#Add Basemap\n",
    "ctx.add_basemap(ax)\n",
    "\n",
    "#Clean Up the Plot\n",
    "ax.set_axis_off()\n",
    "fig.patch.set_facecolor('xkcd:white')\n",
    "\n",
    "#Save the figure\n",
    "plt.savefig('/home/boogie2/Hanson_Lab/TRI_STILT//figures/descriptive_analysis/TRI_Locations.png')\n",
    "plt.close()"
   ]
  },
  {
   "cell_type": "code",
   "execution_count": 17,
   "metadata": {
    "tags": []
   },
   "outputs": [
    {
     "output_type": "stream",
     "name": "stdout",
     "text": "True\n"
    }
   ],
   "source": [
    "#Load the County Shapefiles\n",
    "counties =fiona.open('/home/boogie2/Hanson_Lab/TRI_STILT/data/raw/utah_counties.gdb')\n",
    "counties_gdf = gpd.GeoDataFrame.from_features([feature for feature in counties], crs=counties.crs)\n",
    "columns = list(counties.meta[\"schema\"][\"properties\"]) + [\"geometry\"]\n",
    "counties_gdf = counties_gdf[columns]\n",
    "counties_gdf = counties_gdf.to_crs(epsg=3857) \n",
    "\n",
    "#Get the total number per country\n",
    "temp=carc_sel_tri_air\n",
    "temp['sumer'] = 1\n",
    "temp = temp.groupby(['COUNTY']).agg({'sumer': 'sum'}).reset_index()\n",
    "\n",
    "#Merge on County Name\n",
    "merge = temp.merge(counties_gdf, \n",
    "                   left_on='COUNTY',\n",
    "                   right_on='NAME',\n",
    "                   how='inner')\n",
    "\n",
    "#Place back into a geodataframe\n",
    "merge = gpd.GeoDataFrame(merge)\n",
    "\n",
    "\n",
    "#Check the shape match. The rows should not change\n",
    "print(temp.shape[0] == merge.shape[0])"
   ]
  },
  {
   "cell_type": "code",
   "execution_count": 20,
   "metadata": {},
   "outputs": [],
   "source": [
    "#Which Counties have the most observations? \n",
    "fig,ax = plt.subplots(1,2,figsize=(16, 8))\n",
    "carc_sel_tri_air['COUNTY'].value_counts().plot.bar(ax=ax[0])\n",
    "ax[0].set_xticklabels(carc_sel_tri_air['COUNTY'].value_counts().index, rotation = 45, ha=\"right\")\n",
    "ax[0].set_xlabel('County')\n",
    "ax[0].set_ylabel('Observations')\n",
    "ax[0].set_title('TRI Occurences by County')\n",
    "\n",
    "#Geographic Plotting\n",
    "merge.plot(cmap='YlOrRd',\n",
    "           ax=ax[1],\n",
    "           column='sumer',\n",
    "           legend=True,\n",
    "           alpha=0.8,\n",
    "           legend_kwds={'label': \"Occurences within County Limits\"})\n",
    "ax[1].set_title(\"Utah TRI Occurence Locations\")\n",
    "\n",
    "#Pulling off the axis\n",
    "plt.rcParams.update({'font.size': 12})\n",
    "plt.tick_params(\n",
    "    axis='both',          # changes apply to the x-axis\n",
    "    which='both',      # both major and minor ticks are affected\n",
    "    bottom=False,      # ticks along the bottom edge are off\n",
    "    top=False,# ticks along the top edge are off\n",
    "    left=False,\n",
    "    labelbottom=False,\n",
    "    labelleft=False)\n",
    "\n",
    "ctx.add_basemap(ax[1])\n",
    "\n",
    "plt.savefig('/home/boogie2/Hanson_Lab/TRI_STILT//figures/descriptive_analysis/TRI_county_occurences.png')\n",
    "plt.close()"
   ]
  },
  {
   "cell_type": "code",
   "execution_count": 22,
   "metadata": {},
   "outputs": [],
   "source": [
    "#Per year, how do the pounds of released material change? \n",
    "\n",
    "fig,ax = plt.subplots(1,2,figsize=(16, 8))\n",
    "\n",
    "data = []\n",
    "for year in sorted(carc_sel_tri_air['YEAR'].drop_duplicates()):\n",
    "    d=carc_sel_tri_air[carc_sel_tri_air['YEAR']==year]['51-FUGITIVEAIR']\n",
    "    data.append(d)\n",
    "    \n",
    "ax[0].boxplot(data)\n",
    "ax[0].set_xticklabels(sorted(carc_sel_tri_air['YEAR'].drop_duplicates()), rotation = 45, ha=\"right\")\n",
    "ax[0].set_xlabel('Year')\n",
    "ax[0].set_ylabel('Lbs of Released Chemicals')\n",
    "ax[0].set_title('Yearly Fugitive Releases')\n",
    "\n",
    "data = []\n",
    "for year in sorted(carc_sel_tri_air['YEAR'].drop_duplicates()):\n",
    "    d=carc_sel_tri_air[carc_sel_tri_air['YEAR']==year]['52-STACKAIR']\n",
    "    data.append(d)\n",
    "    \n",
    "ax[1].boxplot(data)\n",
    "ax[1].set_xticklabels(sorted(carc_sel_tri_air['YEAR'].drop_duplicates()), rotation = 45, ha=\"right\")\n",
    "ax[1].set_xlabel('County')\n",
    "ax[1].set_ylabel('Lbs of Released Chemicals')\n",
    "ax[1].set_title('Yearly Stack Releases')\n",
    "\n",
    "plt.savefig('/home/boogie2/Hanson_Lab/TRI_STILT//figures/descriptive_analysis/Stack_Fug_boxplot_yearly_releases.png')\n",
    "plt.close()"
   ]
  },
  {
   "cell_type": "code",
   "execution_count": 23,
   "metadata": {},
   "outputs": [],
   "source": [
    "#Per county are the releases centered in any sort of manner?\n",
    "fig,ax = plt.subplots(1,2,figsize=(16, 8))\n",
    "\n",
    "data = []\n",
    "for year in sorted(carc_sel_tri_air['COUNTY'].drop_duplicates()):\n",
    "    d=carc_sel_tri_air[carc_sel_tri_air['COUNTY']==year]['51-FUGITIVEAIR']\n",
    "    data.append(d)\n",
    "    \n",
    "ax[0].boxplot(data)\n",
    "ax[0].set_xticklabels(sorted(carc_sel_tri_air['COUNTY'].drop_duplicates()), rotation = 45, ha=\"right\")\n",
    "ax[0].set_xlabel('County')\n",
    "ax[0].set_ylabel('Lbs of Released Chemicals')\n",
    "ax[0].set_title('County Fugitive Releases')\n",
    "\n",
    "data = []\n",
    "for year in sorted(carc_sel_tri_air['COUNTY'].drop_duplicates()):\n",
    "    d=carc_sel_tri_air[carc_sel_tri_air['COUNTY']==year]['52-STACKAIR']\n",
    "    data.append(d)\n",
    "    \n",
    "ax[1].boxplot(data)\n",
    "ax[1].set_xticklabels(sorted(carc_sel_tri_air['COUNTY'].drop_duplicates()), rotation = 45, ha=\"right\")\n",
    "ax[1].set_xlabel('County')\n",
    "ax[1].set_ylabel('Lbs of Released Chemicals')\n",
    "ax[1].set_title('County Stack Releases')\n",
    "\n",
    "\n",
    "plt.savefig('/home/boogie2/Hanson_Lab/TRI_STILT//figures/descriptive_analysis/Stack_Fug_boxplot_county_releases.png')\n",
    "plt.close()\n"
   ]
  }
 ],
 "metadata": {
  "kernelspec": {
   "display_name": "Python 3.8.2 64-bit ('lab_basic': conda)",
   "language": "python",
   "name": "python38264bitlabbasicconda4825a66a37ba40ba92a9a00b24cf8177"
  },
  "language_info": {
   "codemirror_mode": {
    "name": "ipython",
    "version": 3
   },
   "file_extension": ".py",
   "mimetype": "text/x-python",
   "name": "python",
   "nbconvert_exporter": "python",
   "pygments_lexer": "ipython3",
   "version": "3.8.2-final"
  }
 },
 "nbformat": 4,
 "nbformat_minor": 4
}