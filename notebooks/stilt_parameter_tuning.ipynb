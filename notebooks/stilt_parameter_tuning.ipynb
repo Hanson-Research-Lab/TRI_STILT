{
 "cells": [
  {
   "cell_type": "markdown",
   "metadata": {},
   "source": [
    "# Quantifying Spread\n",
    "\n",
    "Quantification Metrics: \n",
    "\n",
    "1. Mean Distance \n",
    "    - Take the haversign distance (distance between two points on the surface of a sphere) per each point then find the average \n",
    "    - Shows average direction and strength\n",
    "    - Lacks spread quantifcation\n",
    "2. Intersection Over Union\n",
    "    - Create a solid outline by connecting all outermost dots\n",
    "    - Comparitive metric between two simulations\n",
    "    - OR spread could be quantified by the area of the shape\n",
    "    - When the IOU does not change significantly between simulations, they have stabalized in spread? \n",
    "3. Coeffient of Variation - assuming we can get multiple particles per grid cell or total per cell\n",
    "    - Create one metric per cell to evaluate the stability of the model\n",
    "        - Treat each cell with a non-zero value as a particle considered in the variation\n",
    "        - do this for each cell (if you can get the particles for each cell) - results in a COE per each cell - look at the stability of cells per each simulation "
   ]
  },
  {
   "cell_type": "code",
   "execution_count": 2,
   "metadata": {},
   "outputs": [],
   "source": [
    "#Basics: \n",
    "import numpy as np\n",
    "import matplotlib.pyplot as plt\n",
    "import pandas as pd\n",
    "import os\n",
    "from math import radians, cos, sin, asin, sqrt\n",
    "import glob\n",
    "\n",
    "#Geo\n",
    "import geopandas as gpd\n",
    "import fiona\n",
    "from shapely.geometry import Point\n",
    "import descartes\n",
    "import contextily as ctx #Basemaps \n",
    "from shapely.geometry import Point, Polygon\n",
    "\n",
    "import alphashape\n",
    "from descartes import PolygonPatch"
   ]
  },
  {
   "cell_type": "code",
   "execution_count": 3,
   "metadata": {},
   "outputs": [],
   "source": [
    "# vectorized haversine function\n",
    "def haversine(lat1, lon1, lat2, lon2, to_radians=True, earth_radius=6371):\n",
    "    \"\"\"\n",
    "    slightly modified version: of http://stackoverflow.com/a/29546836/2901002\n",
    "\n",
    "    Calculate the great circle distance between two points\n",
    "    on the earth (specified in decimal degrees or in radians)\n",
    "\n",
    "    All (lat, lon) coordinates must have numeric dtypes and be of equal length.\n",
    "\n",
    "    \"\"\"\n",
    "    if to_radians:\n",
    "        lat1, lon1, lat2, lon2 = np.radians([lat1, lon1, lat2, lon2])\n",
    "\n",
    "    a = np.sin((lat2-lat1)/2.0)**2 + \\\n",
    "        np.cos(lat1) * np.cos(lat2) * np.sin((lon2-lon1)/2.0)**2\n",
    "\n",
    "    return earth_radius * 2 * np.arcsin(np.sqrt(a))\n",
    "\n",
    "def geography_point_IOU(geo_dataframe,alpha_level):\n",
    "    \"\"\"Creates a shapefile outline for the given geodataframe using a convex hull operation. \n",
    "\n",
    "    ===\n",
    "    Inputs:\n",
    "    1. geo_dataframe - a geopandas dataframe with STILT ouputs converted into shapefile points (lat, lon)\n",
    "    2. alpha_level - a value which dictates how strictly the convex hull operation attempts to keep all points within the shape (dependent on coordinate system!)\n",
    "\n",
    "    Outputs:\n",
    "    1. sq_km_area = the sq km area of the polygon. Note this value is projectionally dependent. \n",
    "    2. IOU_gdf = a dataframe containg the polygon adaptation of the point files\n",
    "    ===\n",
    "    \"\"\"\n",
    "\n",
    "    #Weird Initialization necessary \n",
    "    IOU_gdf = {'Lat':[00.00,],'Lon':[00.00]}\n",
    "    IOU_gdf = pd.DataFrame(IOU_gdf)\n",
    "\n",
    "    #Convert to a geodataframe\n",
    "    IOU_gdf = gpd.GeoDataFrame(IOU_gdf, geometry=gpd.points_from_xy(x=IOU_gdf['Lon'], y=IOU_gdf['Lat']))\n",
    "    IOU_gdf = IOU_gdf.set_crs(epsg=3857)\n",
    "\n",
    "    #Create a shape using convex hull (there are better ways to do this which are more exact http://blog.thehumangeo.com/2014/05/12/drawing-boundaries-in-python/)\n",
    "    #This is an ok approximation for now \n",
    "    IOU_gdf['geometry'] = alphashape.alphashape(geo_dataframe['geometry'],alpha_level)\n",
    "\n",
    "    sq_km_area = IOU_gdf['geometry'].iloc[0].area / 10**6\n",
    "\n",
    "    return sq_km_area,IOU_gdf\n",
    "\n",
    "def mean_distance(stilt_simulation_shapefile, origin_source_lat, origin_source_lon):\n",
    "    \"\"\"Calculates the mean distance between a dataframe and associated origin point.\n",
    "\n",
    "    ===\n",
    "    Inputs:\n",
    "    1. stilt_simulation_shapefile - a geopandas dataframe with STILT ouputs converted into shapefile points (lat, lon)\n",
    "    2. origin_source_lat - the latitude point of reference\n",
    "    3. origin_source_lon - the longitude point of reference\n",
    "\n",
    "    Outputs:\n",
    "    1. returns the average distance between the origin lat/lon and each of the satellite points. \n",
    "    ===\n",
    "    \"\"\"\n",
    "\n",
    "    stilt_sim = stilt_simulation_shapefile\n",
    "\n",
    "    #Calculate the distance: \n",
    "    stilt_sim['tri_origin_release_lon'] = origin_source_lon\n",
    "    stilt_sim['tri_origin_release_lat'] = origin_source_lat\n",
    "    stilt_sim['stilt_sim_distance'] = haversine(stilt_sim['lat'], stilt_sim['lon'], stilt_sim['tri_origin_release_lat'], stilt_sim['tri_origin_release_lon'])\n",
    "\n",
    "    #Verify the distances  by plot\n",
    "    #stilt_sim.plot(column = 'stilt_sim_distance')\n",
    "    #plt.close()\n",
    "\n",
    "    return np.mean(stilt_sim['stilt_sim_distance'])"
   ]
  },
  {
   "cell_type": "markdown",
   "metadata": {},
   "source": [
    "# Conversion: NETCDF to single shapefile\n",
    "\n",
    "Tack all information into a dataframe which keeps a column based upon the original dataname."
   ]
  },
  {
   "cell_type": "code",
   "execution_count": 4,
   "metadata": {},
   "outputs": [],
   "source": [
    "test = gpd.read_file('/home/boogie2/Hanson_Lab/TRI_STILT/data/processed/stilt_output/shapefile/092120_hysplit_v_stilt')\n",
    "test['ss_date'] = pd.to_datetime(test['ss_date'])"
   ]
  },
  {
   "cell_type": "code",
   "execution_count": 5,
   "metadata": {},
   "outputs": [],
   "source": [
    "fig, ax = plt.subplots()\n",
    "test[test.lbsperday>0.001].plot(column = 'lbsperday',ax = ax,alpha = 0.5)\n",
    "ctx.add_basemap(ax=ax)\n",
    "plt.close()"
   ]
  },
  {
   "source": [
    "# Post-Processing: \n",
    "\n",
    "Initially it was thought that we might need some special spatial statistics to examine how well the simulations were working. Below represents code which is capable of calculating:\n",
    "\n",
    "1. Mean Average Distance to Origin Point (haversine distance for circular objects)\n",
    "2. Area and shape of plume \n",
    "3. Coefficient of Variation for the entire simulation "
   ],
   "cell_type": "markdown",
   "metadata": {}
  },
  {
   "cell_type": "code",
   "execution_count": 80,
   "metadata": {
    "tags": []
   },
   "outputs": [],
   "source": [
    "parameter_tuning_df = pd.DataFrame(columns = ['name','data_path','TRI_release_lat','TRI_release_lon','Mean_average_distance_from_origin','Shape_area','shape_geometry','Coefficient_of_variation','id'])\n",
    "\n",
    "import glob\n",
    "from scipy.stats import variation\n",
    "\n",
    "data = []\n",
    "data_folder_name ='092120_tuning_run_2/'\n",
    "run_df = pd.read_csv('/home/boogie2/Hanson_Lab/TRI_STILT/data/processed/unique_TRI_location_height_year_stilt_RUN.csv')\n",
    "\n",
    "for files in glob.glob('/home/boogie2/Hanson_Lab/TRI_STILT/data/processed/stilt_output/' + data_folder_name + '*'):\n",
    "\n",
    "    #extract the simulation_name\n",
    "    name = files.split(data_folder_name)[1]\n",
    "\n",
    "    #we can rely on the lat and lon being reliable as the name is coming from STILT\n",
    "    lat = float(name.split('_')[2])\n",
    "    lon = float(name.split('_')[1])\n",
    "\n",
    "    #Load the file\n",
    "    stilt_processed_gdf = gpd.read_file(files)\n",
    "\n",
    "    #Filter down the files\n",
    "    stilt_processed_gdf = stilt_processed_gdf[stilt_processed_gdf.foot>0.0001]\n",
    "\n",
    "    #Calculate the mean distance\n",
    "    mean_dist = mean_distance(stilt_processed_gdf, lat, lon)\n",
    "    \n",
    "    #Calculate the area and shape of the plume\n",
    "    area, area_polygon = geography_point_IOU(stilt_processed_gdf,0.00001)\n",
    "\n",
    "    #Coeff of Variation\n",
    "    COV = variation(stilt_processed_gdf['foot'],axis =0)\n",
    "    \n",
    "    #Gather and add the merge ID\n",
    "\n",
    "    #As long as we treat the data outputs of stilt as immutable - this should work fine\n",
    "    YEAR = int(name.split('_')[0][0:4])\n",
    "    longi = float(name.split('_')[1])\n",
    "    lati = float(name.split('_')[2])\n",
    "    zagl = float(name.split('_')[3])\n",
    "\n",
    "    temp_find = run_df[(run_df.YEAR == YEAR) & (run_df.zagl == zagl) & (run_df.long.round(6) == longi) & (run_df.lati.round(6) == lati)]\n",
    "    temp_id = temp_find['id'].values[0]\n",
    "\n",
    "    #Plot the stuff\n",
    "    #fig,ax = plt.subplots(1,1,figsize=(15,15))\n",
    "    #area_polygon.plot(ax = ax,color='b',alpha=0.2)\n",
    "    #stilt_processed_gdf.plot(ax = ax,cmap = 'YlOrRd', markersize=10,column = 'foot')\n",
    "    #ctx.add_basemap(ax)\n",
    "    #ax.axes.xaxis.set_visible(False)\n",
    "    #ax.axes.yaxis.set_visible(False)\n",
    "    #ax.set_title('{0}'.format(name))\n",
    "    #plt.savefig('/home/boogie2/Hanson_Lab/TRI_STILT/figures/{}.png'.format(name))\n",
    "    #plt.close()\n",
    "    \n",
    "    data.append([name,files,lat,lon,mean_dist,area,area_polygon['geometry'].iloc[0],COV,temp_id])\n",
    "parameter_tuning_df = pd.DataFrame(data, columns = ['name','data_path','TRI_release_lat','TRI_release_lon','Mean_average_distance_from_origin','Shape_area','shape_geometry','Coefficient_of_variation','id'])"
   ]
  },
  {
   "cell_type": "code",
   "execution_count": 81,
   "metadata": {},
   "outputs": [
    {
     "output_type": "execute_result",
     "data": {
      "text/plain": "                                           name  \\\n0    199003010000_-112.01698_41.09394_16.6_foot   \n1  199009300000_-112.186278_40.726834_16.6_foot   \n2       199310090000_-111.9045_40.7523_9.1_foot   \n3     199506160000_-111.921443_40.838386_0_foot   \n4   199408160000_-110.12491_40.388555_10.7_foot   \n\n                                           data_path  TRI_release_lat  \\\n0  /home/boogie2/Hanson_Lab/TRI_STILT/data/proces...        41.093940   \n1  /home/boogie2/Hanson_Lab/TRI_STILT/data/proces...        40.726834   \n2  /home/boogie2/Hanson_Lab/TRI_STILT/data/proces...        40.752300   \n3  /home/boogie2/Hanson_Lab/TRI_STILT/data/proces...        40.838386   \n4  /home/boogie2/Hanson_Lab/TRI_STILT/data/proces...        40.388555   \n\n   TRI_release_lon  Mean_average_distance_from_origin   Shape_area  \\\n0      -112.016980                          65.990959  8894.641675   \n1      -112.186278                          44.777464  8282.153108   \n2      -111.904500                           7.494512   497.332238   \n3      -111.921443                          51.085855  1249.376459   \n4      -110.124910                          20.727060  1137.573841   \n\n                                      shape_geometry  \\\n0  POLYGON ((-12564074.32838282 4990977.665177196...   \n1  POLYGON ((-12500622.21863066 4849244.838515353...   \n2  POLYGON ((-12441622.88851022 4967457.790419347...   \n3  POLYGON ((-12459434.00703715 4988034.58002491,...   \n4  POLYGON ((-12222323.49164747 4895777.192686847...   \n\n   Coefficient_of_variation   id  \n0                  1.389718   40  \n1                  4.568876   26  \n2                  1.590259  274  \n3                  1.063805  477  \n4                  1.352735  390  ",
      "text/html": "<div>\n<style scoped>\n    .dataframe tbody tr th:only-of-type {\n        vertical-align: middle;\n    }\n\n    .dataframe tbody tr th {\n        vertical-align: top;\n    }\n\n    .dataframe thead th {\n        text-align: right;\n    }\n</style>\n<table border=\"1\" class=\"dataframe\">\n  <thead>\n    <tr style=\"text-align: right;\">\n      <th></th>\n      <th>name</th>\n      <th>data_path</th>\n      <th>TRI_release_lat</th>\n      <th>TRI_release_lon</th>\n      <th>Mean_average_distance_from_origin</th>\n      <th>Shape_area</th>\n      <th>shape_geometry</th>\n      <th>Coefficient_of_variation</th>\n      <th>id</th>\n    </tr>\n  </thead>\n  <tbody>\n    <tr>\n      <th>0</th>\n      <td>199003010000_-112.01698_41.09394_16.6_foot</td>\n      <td>/home/boogie2/Hanson_Lab/TRI_STILT/data/proces...</td>\n      <td>41.093940</td>\n      <td>-112.016980</td>\n      <td>65.990959</td>\n      <td>8894.641675</td>\n      <td>POLYGON ((-12564074.32838282 4990977.665177196...</td>\n      <td>1.389718</td>\n      <td>40</td>\n    </tr>\n    <tr>\n      <th>1</th>\n      <td>199009300000_-112.186278_40.726834_16.6_foot</td>\n      <td>/home/boogie2/Hanson_Lab/TRI_STILT/data/proces...</td>\n      <td>40.726834</td>\n      <td>-112.186278</td>\n      <td>44.777464</td>\n      <td>8282.153108</td>\n      <td>POLYGON ((-12500622.21863066 4849244.838515353...</td>\n      <td>4.568876</td>\n      <td>26</td>\n    </tr>\n    <tr>\n      <th>2</th>\n      <td>199310090000_-111.9045_40.7523_9.1_foot</td>\n      <td>/home/boogie2/Hanson_Lab/TRI_STILT/data/proces...</td>\n      <td>40.752300</td>\n      <td>-111.904500</td>\n      <td>7.494512</td>\n      <td>497.332238</td>\n      <td>POLYGON ((-12441622.88851022 4967457.790419347...</td>\n      <td>1.590259</td>\n      <td>274</td>\n    </tr>\n    <tr>\n      <th>3</th>\n      <td>199506160000_-111.921443_40.838386_0_foot</td>\n      <td>/home/boogie2/Hanson_Lab/TRI_STILT/data/proces...</td>\n      <td>40.838386</td>\n      <td>-111.921443</td>\n      <td>51.085855</td>\n      <td>1249.376459</td>\n      <td>POLYGON ((-12459434.00703715 4988034.58002491,...</td>\n      <td>1.063805</td>\n      <td>477</td>\n    </tr>\n    <tr>\n      <th>4</th>\n      <td>199408160000_-110.12491_40.388555_10.7_foot</td>\n      <td>/home/boogie2/Hanson_Lab/TRI_STILT/data/proces...</td>\n      <td>40.388555</td>\n      <td>-110.124910</td>\n      <td>20.727060</td>\n      <td>1137.573841</td>\n      <td>POLYGON ((-12222323.49164747 4895777.192686847...</td>\n      <td>1.352735</td>\n      <td>390</td>\n    </tr>\n  </tbody>\n</table>\n</div>"
     },
     "metadata": {},
     "execution_count": 81
    }
   ],
   "source": [
    "#Create a figure to showcase everything\n",
    "parameter_tuning_df.head()"
   ]
  },
  {
   "cell_type": "code",
   "execution_count": null,
   "metadata": {},
   "outputs": [],
   "source": []
  }
 ],
 "metadata": {
  "kernelspec": {
   "display_name": "Python 3.7.7 64-bit ('stilt': venv)",
   "language": "python",
   "name": "python37764bitstiltvenvd0b5b9a6265a460294244206ccd6e7b1"
  },
  "language_info": {
   "codemirror_mode": {
    "name": "ipython",
    "version": 3
   },
   "file_extension": ".py",
   "mimetype": "text/x-python",
   "name": "python",
   "nbconvert_exporter": "python",
   "pygments_lexer": "ipython3",
   "version": "3.7.7-final"
  }
 },
 "nbformat": 4,
 "nbformat_minor": 2
}