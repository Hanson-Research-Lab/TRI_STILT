{
 "metadata": {
  "language_info": {
   "codemirror_mode": {
    "name": "ipython",
    "version": 3
   },
   "file_extension": ".py",
   "mimetype": "text/x-python",
   "name": "python",
   "nbconvert_exporter": "python",
   "pygments_lexer": "ipython3",
   "version": "3.7.7-final"
  },
  "orig_nbformat": 2,
  "kernelspec": {
   "name": "python37764bitstiltvenvd0b5b9a6265a460294244206ccd6e7b1",
   "display_name": "Python 3.7.7 64-bit ('stilt': venv)"
  }
 },
 "nbformat": 4,
 "nbformat_minor": 2,
 "cells": [
  {
   "source": [
    "# Post-Processing & Visualization \n",
    "\n",
    "gl<br>\n",
    "09.29.20<br>\n",
    "\n",
    "The purpose of this notebook is to showcase how data should be processed following `make stilt_output_conversion`. The big picture idea is that all simulations points over 0 have been collected and added to a single dataframe. The latitude and longitude should remain consistent for points as the grid should be constant over multiple simulations. Ideally (and to reduce reducancy) each of these points should be unique on a day to day basis with each chemical release as a seperate column entry. "
   ],
   "cell_type": "markdown",
   "metadata": {}
  },
  {
   "cell_type": "code",
   "execution_count": 3,
   "metadata": {},
   "outputs": [],
   "source": [
    "#Load Libraries\n",
    "\n",
    "#Basic py: \n",
    "import numpy as np\n",
    "import matplotlib.pyplot as plt\n",
    "import pandas as pd\n",
    "\n",
    "#Geo\n",
    "import geopandas as gpd\n",
    "import fiona\n",
    "from shapely.geometry import Point\n",
    "import descartes\n",
    "import contextily as ctx #Basemaps "
   ]
  },
  {
   "cell_type": "markdown",
   "metadata": {},
   "source": [
    "## Load Data from CSV into a Geopandas Dataframe: 092120_hysplit_v_stilt.csv\n",
    "\n",
    "Let's examine a basic table of information "
   ]
  },
  {
   "cell_type": "code",
   "execution_count": 4,
   "metadata": {},
   "outputs": [],
   "source": [
    "def csv_to_geodataframe(path,epsg):\n",
    "    \n",
    "    #load the data\n",
    "    sim_df = pd.read_csv(path)\n",
    "\n",
    "    #Adjust the datetime\n",
    "    sim_df['ss_date'] = pd.to_datetime(sim_df['ss_date'])\n",
    "\n",
    "    #convert to a geodataframe\n",
    "    sim_gdf = gpd.GeoDataFrame(sim_df, geometry=gpd.points_from_xy(sim_df.lon, sim_df.lat)).set_crs(epsg=4326)\n",
    "    return sim_gdf.to_crs(epsg=epsg)"
   ]
  },
  {
   "cell_type": "code",
   "execution_count": 22,
   "metadata": {},
   "outputs": [
    {
     "output_type": "execute_result",
     "data": {
      "text/plain": "          lat      lon      foot     lbsperday  id  TRI_source_lati  \\\n0      41.095 -112.025  0.260448  1.262280e+00   7        41.093219   \n1      41.095 -112.025  0.260448  1.262280e+00   7        41.093219   \n30916  40.725 -112.015  0.000002  2.535514e-08  59        40.725570   \n60723  41.665 -112.435  0.218712  5.992096e+00  69        41.663000   \n\n       TRI_source_long  zagl  \\\n0          -112.028221   0.0   \n1          -112.028221   0.0   \n30916      -112.000810   0.0   \n60723      -112.432000   0.0   \n\n                                                Chemical  Release (lbs/year)  \\\n0                                                STYRENE              1769.0   \n1                                        DICHLOROMETHANE             36000.0   \n30916  SULFURIC ACID (1994 AND AFTER ACID AEROSOLS\" O...                 5.0   \n60723                                        1,4-DIOXANE             10000.0   \n\n       YEAR                                    ss_name  \\\n0      1990  199001010000_-112.028221_41.093219_0_foot   \n1      1990  199001010000_-112.028221_41.093219_0_foot   \n30916  1990    199001010000_-112.00081_40.72557_0_foot   \n60723  1990        199001010000_-112.432_41.663_0_foot   \n\n                                                 ss_path  \\\n0      data/processed/stilt_output/netcdf/092120_hysp...   \n1      data/processed/stilt_output/netcdf/092120_hysp...   \n30916  data/processed/stilt_output/netcdf/092120_hysp...   \n60723  data/processed/stilt_output/netcdf/092120_hysp...   \n\n                         ss_date                           geometry  \n0     1970-01-01 00:03:19.001010  POINT (-12470565.956 5026364.257)  \n1     1970-01-01 00:03:19.001010  POINT (-12470565.956 5026364.257)  \n30916 1970-01-01 00:03:19.001010  POINT (-12469452.761 4971863.456)  \n60723 1970-01-01 00:03:19.001010  POINT (-12516206.947 5110929.414)  ",
      "text/html": "<div>\n<style scoped>\n    .dataframe tbody tr th:only-of-type {\n        vertical-align: middle;\n    }\n\n    .dataframe tbody tr th {\n        vertical-align: top;\n    }\n\n    .dataframe thead th {\n        text-align: right;\n    }\n</style>\n<table border=\"1\" class=\"dataframe\">\n  <thead>\n    <tr style=\"text-align: right;\">\n      <th></th>\n      <th>lat</th>\n      <th>lon</th>\n      <th>foot</th>\n      <th>lbsperday</th>\n      <th>id</th>\n      <th>TRI_source_lati</th>\n      <th>TRI_source_long</th>\n      <th>zagl</th>\n      <th>Chemical</th>\n      <th>Release (lbs/year)</th>\n      <th>YEAR</th>\n      <th>ss_name</th>\n      <th>ss_path</th>\n      <th>ss_date</th>\n      <th>geometry</th>\n    </tr>\n  </thead>\n  <tbody>\n    <tr>\n      <th>0</th>\n      <td>41.095</td>\n      <td>-112.025</td>\n      <td>0.260448</td>\n      <td>1.262280e+00</td>\n      <td>7</td>\n      <td>41.093219</td>\n      <td>-112.028221</td>\n      <td>0.0</td>\n      <td>STYRENE</td>\n      <td>1769.0</td>\n      <td>1990</td>\n      <td>199001010000_-112.028221_41.093219_0_foot</td>\n      <td>data/processed/stilt_output/netcdf/092120_hysp...</td>\n      <td>1970-01-01 00:03:19.001010</td>\n      <td>POINT (-12470565.956 5026364.257)</td>\n    </tr>\n    <tr>\n      <th>1</th>\n      <td>41.095</td>\n      <td>-112.025</td>\n      <td>0.260448</td>\n      <td>1.262280e+00</td>\n      <td>7</td>\n      <td>41.093219</td>\n      <td>-112.028221</td>\n      <td>0.0</td>\n      <td>DICHLOROMETHANE</td>\n      <td>36000.0</td>\n      <td>1990</td>\n      <td>199001010000_-112.028221_41.093219_0_foot</td>\n      <td>data/processed/stilt_output/netcdf/092120_hysp...</td>\n      <td>1970-01-01 00:03:19.001010</td>\n      <td>POINT (-12470565.956 5026364.257)</td>\n    </tr>\n    <tr>\n      <th>30916</th>\n      <td>40.725</td>\n      <td>-112.015</td>\n      <td>0.000002</td>\n      <td>2.535514e-08</td>\n      <td>59</td>\n      <td>40.725570</td>\n      <td>-112.000810</td>\n      <td>0.0</td>\n      <td>SULFURIC ACID (1994 AND AFTER ACID AEROSOLS\" O...</td>\n      <td>5.0</td>\n      <td>1990</td>\n      <td>199001010000_-112.00081_40.72557_0_foot</td>\n      <td>data/processed/stilt_output/netcdf/092120_hysp...</td>\n      <td>1970-01-01 00:03:19.001010</td>\n      <td>POINT (-12469452.761 4971863.456)</td>\n    </tr>\n    <tr>\n      <th>60723</th>\n      <td>41.665</td>\n      <td>-112.435</td>\n      <td>0.218712</td>\n      <td>5.992096e+00</td>\n      <td>69</td>\n      <td>41.663000</td>\n      <td>-112.432000</td>\n      <td>0.0</td>\n      <td>1,4-DIOXANE</td>\n      <td>10000.0</td>\n      <td>1990</td>\n      <td>199001010000_-112.432_41.663_0_foot</td>\n      <td>data/processed/stilt_output/netcdf/092120_hysp...</td>\n      <td>1970-01-01 00:03:19.001010</td>\n      <td>POINT (-12516206.947 5110929.414)</td>\n    </tr>\n  </tbody>\n</table>\n</div>"
     },
     "metadata": {},
     "execution_count": 22
    }
   ],
   "source": [
    "#Load the data:\n",
    "hysplit_v_stilt_gdf = csv_to_geodataframe('/home/boogie2/Hanson_Lab/TRI_STILT/data/processed/stilt_output/shapefile/092120_hysplit_v_stilt.csv',3857)\n",
    "\n",
    "#We expect four simulations to be present let's check\n",
    "len(hysplit_v_stilt_gdf['id'].drop_duplicates()) == 4\n",
    "\n",
    "#Was there any simulation overlap (added chemicals which were irrelevant?)\n",
    "hysplit_v_stilt_gdf.drop_duplicates(subset=['zagl','Chemical'])"
   ]
  },
  {
   "source": [
    "# Visualize the Simulation"
   ],
   "cell_type": "markdown",
   "metadata": {}
  },
  {
   "cell_type": "code",
   "execution_count": 45,
   "metadata": {},
   "outputs": [],
   "source": [
    "#Functions to help with plotting\n",
    "def geoplot(geo_df, ax, title, colormap_column, legend_boolean=True,vmin=0,vmax=10,alpha=0.7, markersize=5, cmap='YlOrRd'):\n",
    "\n",
    "    \"\"\"A plotting function for geographic areas\n",
    "    \n",
    "    ===\n",
    "    Inputs:\n",
    "    geo_df: A geodataframe with geometry column for plotting. For added background map, please ensure EPSG is set to 3857\n",
    "    ax: The axis for plotting\n",
    "    title: the title of the plot\n",
    "    \n",
    "    Returns:\n",
    "    none\n",
    "    ===\n",
    "    \"\"\"    \n",
    "    #Plot\n",
    "    geo_df.plot(cmap=cmap,\n",
    "                ax=ax,\n",
    "                column=colormap_column,\n",
    "                vmin=vmin,\n",
    "                vmax=vmax,\n",
    "                legend=legend_boolean,\n",
    "                alpha = alpha,\n",
    "                markersize=markersize,\n",
    "                legend_kwds={'label': \"Mean Pollutant Concentration (lbs/km^2)\",'orientation': \"vertical\"})\n",
    "\n",
    "    #Add title\n",
    "    ax.set_title(title)\n",
    "\n",
    "    #Plot a background map if the EPSG is configured correctly\n",
    "    if geo_df.crs == 3857:\n",
    "        ctx.add_basemap(ax)\n",
    "\n",
    "    #Let's remove the axis ticks too\n",
    "    ax.set_axis_off()\n",
    "    "
   ]
  },
  {
   "source": [
    "### Base Visualization"
   ],
   "cell_type": "markdown",
   "metadata": {}
  },
  {
   "cell_type": "code",
   "execution_count": 62,
   "metadata": {
    "tags": []
   },
   "outputs": [
    {
     "output_type": "stream",
     "name": "stdout",
     "text": "directory exists\n"
    }
   ],
   "source": [
    "#Let's visualize all simulations without any filtering\n",
    "fig,ax = plt.subplots(1,1,figsize=(20,20)) \n",
    "geoplot(hysplit_v_stilt_gdf[hysplit_v_stilt_gdf.lbsperday>0.001], ax, 'STILT simulations: 01.01.1990', 'lbsperday')\n",
    "\n",
    "#Removing axis also removed the background color let's add that back\n",
    "fig.patch.set_facecolor('xkcd:white')\n",
    "#make a directory if it doesn't exist\n",
    "try:\n",
    "    os.mkdir('/home/boogie2/Hanson_Lab/TRI_STILT/figures/hysplit_v_stilt')\n",
    "except:\n",
    "    print('directory exists')\n",
    "\n",
    "#save the figure and close the plot\n",
    "plt.savefig('/home/boogie2/Hanson_Lab/TRI_STILT/figures/hysplit_v_stilt/all_simulations.png')\n",
    "plt.close()"
   ]
  },
  {
   "source": [
    "### Adding the TRI origin sources"
   ],
   "cell_type": "markdown",
   "metadata": {}
  },
  {
   "cell_type": "code",
   "execution_count": 55,
   "metadata": {},
   "outputs": [],
   "source": [
    "#Let's add the original source points to the plot\n",
    "#Gather the data\n",
    "origin_tri = hysplit_v_stilt_gdf[['TRI_source_lati','TRI_source_long']].drop_duplicates()\n",
    "origin_tri = gpd.GeoDataFrame(origin_tri, geometry=gpd.points_from_xy(origin_tri.TRI_source_long, origin_tri.TRI_source_lati)).set_crs(epsg=4326)\n",
    "origin_tri = origin_tri.to_crs(epsg=3857)"
   ]
  },
  {
   "cell_type": "code",
   "execution_count": 69,
   "metadata": {
    "tags": []
   },
   "outputs": [
    {
     "output_type": "stream",
     "name": "stdout",
     "text": "directory exists\n"
    }
   ],
   "source": [
    "from matplotlib.lines import Line2D\n",
    "fig,ax = plt.subplots(1,1,figsize=(20,20)) \n",
    "geoplot(hysplit_v_stilt_gdf[hysplit_v_stilt_gdf.lbsperday>0.001], ax, 'STILT simulations: 01.01.1990', 'lbsperday')\n",
    "\n",
    "#Add the original source locations\n",
    "origin_tri.plot(ax = ax,color='purple',marker='^',markersize=60) #Arbritrary setting based upon the figsize\n",
    "\n",
    "#Removing axis also removed the background color let's add that back\n",
    "fig.patch.set_facecolor('xkcd:white')\n",
    "\n",
    "#Add Legend\n",
    "legend_elements = [Line2D([], [], marker='^', color='w', label='TRI Emission Site',markerfacecolor='purple', markersize=15)]\n",
    "ax.legend(handles=legend_elements, loc='lower right')\n",
    "\n",
    "#make a directory if it doesn't exist\n",
    "try:\n",
    "    os.mkdir('/home/boogie2/Hanson_Lab/TRI_STILT/figures/hysplit_v_stilt')\n",
    "except:\n",
    "    print('directory exists')\n",
    "\n",
    "#save the figure and close the plot\n",
    "plt.savefig('/home/boogie2/Hanson_Lab/TRI_STILT/figures/hysplit_v_stilt/all_simulations_with_source.png')\n",
    "plt.close()"
   ]
  }
 ]
}