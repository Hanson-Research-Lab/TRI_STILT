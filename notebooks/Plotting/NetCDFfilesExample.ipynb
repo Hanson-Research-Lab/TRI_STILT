{
 "metadata": {
  "language_info": {
   "codemirror_mode": {
    "name": "ipython",
    "version": 3
   },
   "file_extension": ".py",
   "mimetype": "text/x-python",
   "name": "python",
   "nbconvert_exporter": "python",
   "pygments_lexer": "ipython3",
   "version": "3.7.7-final"
  },
  "orig_nbformat": 2,
  "kernelspec": {
   "name": "python37764bitfc82779dede4468487c8731489017903",
   "display_name": "Python 3.7.7 64-bit",
   "language": "python"
  }
 },
 "nbformat": 4,
 "nbformat_minor": 2,
 "cells": [
  {
   "cell_type": "code",
   "execution_count": null,
   "metadata": {},
   "outputs": [],
   "source": [
    "import pandas as pd\n",
    "import numpy as np \n",
    "import re, glob, sys, os\n",
    "import matplotlib.pyplot as plt \n",
    "from matplotlib.cm import get_cmap\n",
    "import cartopy.io.img_tiles as cimgt\n",
    "import cartopy.crs as ccrs\n",
    "from cartopy.io.shapereader import Reader\n",
    "from cartopy.feature import ShapelyFeature\n",
    "from netCDF4 import Dataset as netcdf_dataset\n",
    "from scipy.ndimage import gaussian_filter"
   ]
  },
  {
   "cell_type": "code",
   "execution_count": null,
   "metadata": {},
   "outputs": [],
   "source": [
    "#This code plots up afternoon-average footprints, but wihout the stamen tiling\n",
    "\n",
    "#Image out name? Input file name?\n",
    "out_name='footprint_aft.png'\n",
    "foot_fname='/home/hhpower/Documents/TRI_STILT/data/processed/stilt_output/netcdf/199510220000_-111.96595_40.736783_0_foot.nc'\n",
    "bath_fname='/home/hhpower/Documents/Plotting/GSL_bathymetry_new.nc'\n",
    "\n",
    "#Read in our data foot print data\n",
    "ncdf_foot=netcdf_dataset(foot_fname)\n",
    "foot=ncdf_foot.variables['foot'][:,:]\n",
    "flats=ncdf_foot.variables['lat'][:]\n",
    "flons=ncdf_foot.variables['lon'][:]\n",
    "\n",
    "#Since we can't use Stamen tiles, we must use an alternative data set for plotting \"terrain\". The bathemetry data set\n",
    "ncdf_bath=netcdf_dataset(bath_fname)\n",
    "terrain_h=ncdf_bath.variables['bathym'][:,:]\n",
    "blats=ncdf_bath.variables['latitude'][:]\n",
    "blons=ncdf_bath.variables['longitude'][:]"
   ]
  },
  {
   "cell_type": "code",
   "execution_count": null,
   "metadata": {},
   "outputs": [],
   "source": [
    "##Print the description of the file\n",
    "print(ncdf_foot)"
   ]
  },
  {
   "cell_type": "code",
   "execution_count": null,
   "metadata": {},
   "outputs": [],
   "source": [
    "##View the variables\n",
    "print(ncdf_foot.variables)\n"
   ]
  },
  {
   "cell_type": "code",
   "execution_count": 1,
   "metadata": {},
   "outputs": [
    {
     "output_type": "error",
     "ename": "NameError",
     "evalue": "name 'ncdf_foot' is not defined",
     "traceback": [
      "\u001b[0;31m---------------------------------------------------------------------------\u001b[0m",
      "\u001b[0;31mNameError\u001b[0m                                 Traceback (most recent call last)",
      "\u001b[0;32m<ipython-input-1-ad5d2e60507e>\u001b[0m in \u001b[0;36m<module>\u001b[0;34m\u001b[0m\n\u001b[0;32m----> 1\u001b[0;31m \u001b[0mprint\u001b[0m\u001b[0;34m(\u001b[0m\u001b[0mncdf_foot\u001b[0m\u001b[0;34m.\u001b[0m\u001b[0m__dict__\u001b[0m\u001b[0;34m)\u001b[0m\u001b[0;34m\u001b[0m\u001b[0;34m\u001b[0m\u001b[0m\n\u001b[0m",
      "\u001b[0;31mNameError\u001b[0m: name 'ncdf_foot' is not defined"
     ]
    }
   ],
   "source": [
    "print(ncdf_foot.__dict__)"
   ]
  },
  {
   "cell_type": "code",
   "execution_count": null,
   "metadata": {},
   "outputs": [],
   "source": [
    "format(ncdf_foot)"
   ]
  }
 ]
}