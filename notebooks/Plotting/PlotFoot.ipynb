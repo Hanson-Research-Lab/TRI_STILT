{
 "metadata": {
  "language_info": {
   "codemirror_mode": {
    "name": "ipython",
    "version": 3
   },
   "file_extension": ".py",
   "mimetype": "text/x-python",
   "name": "python",
   "nbconvert_exporter": "python",
   "pygments_lexer": "ipython3",
   "version": "3.7.6-final"
  },
  "orig_nbformat": 2,
  "kernelspec": {
   "name": "python3",
   "display_name": "Python 3",
   "language": "python"
  }
 },
 "nbformat": 4,
 "nbformat_minor": 2,
 "cells": [
  {
   "cell_type": "code",
   "execution_count": 1,
   "metadata": {},
   "outputs": [],
   "source": [
    "import pandas as pd\n",
    "import numpy as np \n",
    "import re, glob, sys, os\n",
    "import matplotlib.pyplot as plt \n",
    "from matplotlib.cm import get_cmap\n",
    "import cartopy.io.img_tiles as cimgt\n",
    "import cartopy.crs as ccrs\n",
    "from cartopy.io.shapereader import Reader\n",
    "from cartopy.feature import ShapelyFeature\n",
    "from netCDF4 import Dataset as netcdf_dataset\n",
    "from scipy.ndimage import gaussian_filter\n",
    "\n"
   ]
  },
  {
   "cell_type": "code",
   "execution_count": 120,
   "metadata": {},
   "outputs": [
    {
     "output_type": "execute_result",
     "data": {
      "text/plain": [
       "256"
      ]
     },
     "metadata": {},
     "execution_count": 120
    }
   ],
   "source": [
    "#This code plots up afternoon-average footprints, but wihout the stamen tiling\n",
    "\n",
    "#Image out name? Input file name?\n",
    "out_name='199509020000_-111.707982_40.260787_0_foot.png'\n",
    "foot_fname='/home/hhpower/Documents/TRI_STILT/data/processed/stilt_output/netcdf/199509020000_-111.707982_40.260787_0_foot.nc'\n",
    "bath_fname='/home/hhpower/Documents/Plotting/GSL_bathymetry_new.nc'\n",
    "\n",
    "#Read in our data foot print data\n",
    "ncdf_foot=netcdf_dataset(foot_fname)\n",
    "foot=ncdf_foot.variables['foot'][:,:]\n",
    "flats=ncdf_foot.variables['lat'][:]\n",
    "flons=ncdf_foot.variables['lon'][:]\n",
    "\n",
    "#Since we can't use Stamen tiles, we must use an alternative data set for plotting \"terrain\". The bathemetry data set\n",
    "ncdf_bath=netcdf_dataset(bath_fname)\n",
    "terrain_h=ncdf_bath.variables['bathym'][:,:]\n",
    "blats=ncdf_bath.variables['latitude'][:]\n",
    "blons=ncdf_bath.variables['longitude'][:]\n",
    "\n",
    "fig=plt.figure(figsize = (10, 10), dpi=150)\n",
    "ax=plt.axes(projection=ccrs.PlateCarree())\n",
    "\n",
    "#Set the extents of our domain and image resolution\n",
    "ax.set_extent([-114, -110.25, 37.00, 41.50])\n",
    "\n",
    "reader=Reader('/home/hhpower/Documents/Plotting/countyp010g/countyp010g.shp')\n",
    "counties=list(reader.geometries())\n",
    "COUNTIES=ShapelyFeature(counties, ccrs.PlateCarree())\n",
    "ax.add_feature(COUNTIES, facecolor='none', edgecolor='black', linewidth=2)\n",
    "\n",
    "#Lets create some plots\n",
    "flevels=np.arange(-0.1,0.25,0.005)\n",
    "tlevels=np.arange(1200,3200,200)\n",
    "\n",
    "plot_foot=foot\n",
    "plot_foot=gaussian_filter(plot_foot, 0.5)\n",
    "plot_foot=np.reshape(plot_foot, (plot_foot.shape[0]*plot_foot.shape[1], plot_foot.shape[2]))\n",
    "#plot_foot[plot_foot< -3.5]=no.nan\n",
    "\n",
    "flon2d, flat2d = np.meshgrid(flons, flats)\n",
    "\n",
    "##contour_terrain = plt.contourf(blons,blats,terrain_h,levels=tlevels,transform=ccrs.PlateCarree(),cmap=get_cmap(\"binary\"),extend='both',alpha=1)\n",
    "contour_foot = plt.contourf(flons,flats,plot_foot,levels=flevels,transform=ccrs.PlateCarree(),cmap=get_cmap(\"jet\"),extend='max',alpha=0.5)\n",
    "\n",
    "cbar=plt.colorbar(contour_foot, ax=ax, shrink=0.70, aspect=20)\n",
    "cbar.set_label('Footprint [log(ppm/umoles/m2 s)]', rotation=270, weight='bold', size=18, labelpad=30)\n",
    "cbar.ax.tick_params(labelsize=16)\n",
    "\n",
    "#Save the output to a file\n",
    "plt.savefig(out_name)\n",
    "plt.close(fig)\n",
    "os.system('mogrify -trim'+out_name+' '+out_name)"
   ]
  },
  {
   "source": [],
   "cell_type": "markdown",
   "metadata": {}
  },
  {
   "source": [],
   "cell_type": "code",
   "metadata": {},
   "execution_count": 103,
   "outputs": [
    {
     "output_type": "execute_result",
     "data": {
      "text/plain": [
       "256"
      ]
     },
     "metadata": {},
     "execution_count": 103
    }
   ]
  },
  {
   "cell_type": "code",
   "execution_count": 28,
   "metadata": {},
   "outputs": [
    {
     "output_type": "stream",
     "name": "stdout",
     "text": [
      "Figure(1500x1500)\n"
     ]
    }
   ],
   "source": [
    "\n",
    "print(fig)\n"
   ]
  },
  {
   "cell_type": "code",
   "execution_count": 83,
   "metadata": {},
   "outputs": [
    {
     "output_type": "stream",
     "name": "stdout",
     "text": [
      "{'lon': <class 'netCDF4._netCDF4.Variable'>\nfloat64 lon(lon)\n    units: degrees_east\n    standard_name: longitude\n    long_name: longitude at cell center\nunlimited dimensions: \ncurrent shape = (512,)\nfilling on, default _FillValue of 9.969209968386869e+36 used, 'lat': <class 'netCDF4._netCDF4.Variable'>\nfloat64 lat(lat)\n    units: degrees_north\n    standard_name: latitude\n    long_name: latitude at cell center\nunlimited dimensions: \ncurrent shape = (512,)\nfilling on, default _FillValue of 9.969209968386869e+36 used, 'time': <class 'netCDF4._netCDF4.Variable'>\nfloat64 time(time)\n    units: seconds since 1970-01-01 00:00:00Z\n    standard_name: time\n    long_name: utc time\n    calendar: standard\nunlimited dimensions: \ncurrent shape = (1,)\nfilling on, default _FillValue of 9.969209968386869e+36 used, 'foot': <class 'netCDF4._netCDF4.Variable'>\nfloat32 foot(time, lat, lon)\n    units: ppm (umol-1 m2 s)\n    _FillValue: -1.0\n    standard_name: footprint\n    long_name: stilt surface influence footprint\nunlimited dimensions: \ncurrent shape = (1, 512, 512)\nfilling on}\n"
     ]
    }
   ],
   "source": [
    "print(ncdf_foot.variables)"
   ]
  },
  {
   "cell_type": "code",
   "execution_count": 24,
   "metadata": {},
   "outputs": [],
   "source": [
    "pf=np.reshape(plot_foot, (plot_foot.shape[0]*plot_foot.shape[1], plot_foot.shape[2]))"
   ]
  },
  {
   "cell_type": "code",
   "execution_count": 25,
   "metadata": {},
   "outputs": [
    {
     "output_type": "stream",
     "name": "stdout",
     "text": [
      "(512, 512)\n"
     ]
    }
   ],
   "source": [
    "print(pf.shape)"
   ]
  },
  {
   "cell_type": "code",
   "execution_count": null,
   "metadata": {},
   "outputs": [],
   "source": []
  }
 ]
}