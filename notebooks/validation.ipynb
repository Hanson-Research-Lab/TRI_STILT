{
 "metadata": {
  "language_info": {
   "codemirror_mode": {
    "name": "ipython",
    "version": 3
   },
   "file_extension": ".py",
   "mimetype": "text/x-python",
   "name": "python",
   "nbconvert_exporter": "python",
   "pygments_lexer": "ipython3",
   "version": "3.7.7-final"
  },
  "orig_nbformat": 2,
  "kernelspec": {
   "name": "python37764bitstiltvenvd0b5b9a6265a460294244206ccd6e7b1",
   "display_name": "Python 3.7.7 64-bit ('stilt': venv)"
  }
 },
 "nbformat": 4,
 "nbformat_minor": 2,
 "cells": [
  {
   "cell_type": "markdown",
   "metadata": {},
   "source": [
    "# Validation of TRI Modeling\n",
    "\n",
    "gl\n",
    "<br>\n",
    "09.04.20\n",
    "\n",
    "- only three sensors in reasonable proximity for 90-99 and all lead\n",
    "- want to check the 2000-2018 for potential matches"
   ]
  },
  {
   "cell_type": "code",
   "execution_count": 2,
   "metadata": {},
   "outputs": [],
   "source": [
    "#Libraries\n",
    "import pandas as pd\n",
    "from math import radians, cos, sin, asin, sqrt"
   ]
  },
  {
   "cell_type": "code",
   "execution_count": 154,
   "metadata": {},
   "outputs": [],
   "source": [
    "def haversine(lon1, lat1, lon2, lat2):\n",
    "\n",
    "    \"\"\"\n",
    "    Calculate the great circle distance between two points \n",
    "    on the earth (specified in decimal degrees)\n",
    "    \"\"\"\n",
    "    # convert decimal degrees to radians \n",
    "    lon1, lat1, lon2, lat2 = map(radians, [lon1, lat1, lon2, lat2])\n",
    "\n",
    "    # haversine formula \n",
    "    dlon = lon2 - lon1 \n",
    "    dlat = lat2 - lat1 \n",
    "    a = sin(dlat/2)**2 + cos(lat1) * cos(lat2) * sin(dlon/2)**2\n",
    "    c = 2 * asin(sqrt(a)) \n",
    "    r = 6371 # Radius of earth in kilometers. Use 3956 for miles\n",
    "    return c * r"
   ]
  },
  {
   "cell_type": "markdown",
   "metadata": {},
   "source": [
    "## Pulling the sensor data"
   ]
  },
  {
   "cell_type": "code",
   "execution_count": 141,
   "metadata": {},
   "outputs": [],
   "source": [
    "#Load in TRI data from 1990 - 2018 to look for relevant sensors (run with makefile commands in processed/data_origin.txt)\n",
    "TRI_base_process_90_18_nopubchem_df = pd.read_csv('/home/boogie2/Hanson_Lab/TRI_STILT/data/processed/TRI_base_process_90_18_nopubchem.csv')\n",
    "TRI_base_process_90_18_nopubchem_df = TRI_base_process_90_18_nopubchem_df.drop(columns = ['Unnamed: 0'])\n",
    "\n",
    "#While there may be duplicates in the data, we don't need them for this analysis\n",
    "TRI_base_process_90_18_nopubchem_df = TRI_base_process_90_18_nopubchem_df.drop_duplicates()\n",
    "\n",
    "#Load in EPA monitors data\n",
    "EPA_mon = pd.read_csv('/home/boogie2/Hanson_Lab/TRI_STILT/data/raw/TRIChemicals_Monitors.csv')\n",
    "\n",
    "#Interested in the monitors from 1990 to 2018\n",
    "valid_monitors = EPA_mon[(EPA_mon['first_year']>=1990)]"
   ]
  },
  {
   "cell_type": "code",
   "execution_count": 142,
   "metadata": {
    "tags": []
   },
   "outputs": [
    {
     "output_type": "stream",
     "name": "stdout",
     "text": "Total TRI releases 1990-2018: 2231\n\nTotal number of EPA monitors recording after 1990: 88\n\nEPA tracked chemicals: \nETHYLBENZENE, STYRENE, 1,2-DIBROMOETHANE, 1,3-BUTADIENE, 1,2-DICHLOROETHANE, METHYL ISOBUTYL KETONE, TETRACHLOROETHYLENE, FORMALDEHYDE, CHLOROFORM, BENZENE, LEAD, NICKEL, CADMIUM, COBALT, DICHLOROMETHANE, ETHYLENE OXIDE, TRICHLOROETHYLENE, NAPHTHALENE, CUMENE\n\nUnique EPA Sensor Locations: 12\n"
    }
   ],
   "source": [
    "print('Total TRI releases 1990-2018: {0}'.format(TRI_base_process_90_18_nopubchem_df.shape[0]))\n",
    "print('\\nTotal number of EPA monitors recording after 1990: {0}'.format(valid_monitors.shape[0]))\n",
    "print('\\nEPA tracked chemicals: ')\n",
    "print(*valid_monitors['chemicalname'].drop_duplicates().values, sep = \", \")\n",
    "print('\\nUnique EPA Sensor Locations: {}'.format(valid_monitors.drop_duplicates(subset= ['latitude','longitude']).shape[0]))"
   ]
  },
  {
   "cell_type": "code",
   "execution_count": 143,
   "metadata": {},
   "outputs": [],
   "source": [
    "#First need to sort the EPA sensors by ID to see which chemicals are at which facilities\n",
    "valid_monitors['casnumber'] = valid_monitors['casnumber'].str.replace('-','')\n",
    "epa_sensors_locs = valid_monitors.groupby(['latitude','longitude'])['casnumber'].apply(list)\n",
    "epa_sensors_locs = epa_sensors_locs.reset_index()\n",
    "\n",
    "#Gather the CAS numbers for the unique chemicals (EPA sensors)\n",
    "unique_cas = epa_sensors_locs['casnumber'].to_list()\n",
    "unique_cas = [item for sublist in unique_cas for item in sublist]\n",
    "unique_cas =list(dict.fromkeys(unique_cas))"
   ]
  },
  {
   "cell_type": "code",
   "execution_count": 145,
   "metadata": {},
   "outputs": [],
   "source": [
    "#First calculate the TRI emitters which are closest to the origin source AND have chemicals within the list of TRI emitters \n",
    "a= []\n",
    "\n",
    "for idx in range(epa_sensors_locs.shape[0]):\n",
    "    locs = TRI_base_process_90_18_nopubchem_df\n",
    "    temp =epa_sensors_locs.iloc[idx] # This is EPA monitor\n",
    "\n",
    "    #Should be using Haversin because of the rounded nature of the earth\n",
    "    locs['haversine_distance_km']=locs.apply(lambda row : haversine(row['LONGITUDE'],row['LATITUDE'],temp['longitude'],temp['latitude']), axis = 1)\n",
    "\n",
    "    #In order to add multiple entries per each - I think I will just change the iloc here to a boolean based upon distance\n",
    "    matches = locs[locs['CAS#/COMPOUNDID'].isin(epa_sensors_locs['casnumber'].iloc[idx])]\n",
    "    matches = matches[matches.haversine_distance_km<10]\n",
    "    a.append(matches)\n",
    "\n",
    "nearest_ls = pd.concat([epa_sensors_locs.reset_index(),pd.DataFrame(a).reset_index()],axis=1)\n",
    "nearest_ls = nearest_ls.drop(columns=['index'])\n",
    "\n",
    "#Remove any sensors which have no sensors nearby\n",
    "nearest_ls = nearest_ls[nearest_ls[0].apply(lambda x: x.empty)==False]"
   ]
  },
  {
   "cell_type": "code",
   "execution_count": 146,
   "metadata": {},
   "outputs": [],
   "source": [
    "#Converting the list of dataframes into one large dataframe\n",
    "temp_list = []\n",
    "for rows in range(nearest_ls.shape[0]):\n",
    "    temp_df = nearest_ls[0].iloc[rows]\n",
    "    temp_df['EPA_lat'] = nearest_ls['latitude'].iloc[rows]\n",
    "    temp_df['EPA_long'] = nearest_ls['longitude'].iloc[rows]\n",
    "    temp_df['casnumber'] = str(nearest_ls['casnumber'].iloc[rows])\n",
    "    temp_list.append(temp_df)\n",
    "\n",
    "EPA_TRI_merge_by_nearest_sensor = pd.concat(temp_list)\n",
    "EPA_TRI_merge_by_nearest_sensor = EPA_TRI_merge_by_nearest_sensor.dropna(subset=['Group'])"
   ]
  },
  {
   "cell_type": "code",
   "execution_count": 153,
   "metadata": {},
   "outputs": [
    {
     "output_type": "execute_result",
     "data": {
      "text/plain": "       EPA_lat   EPA_long   LATITUDE   LONGITUDE      CHEMICAL  \\\n0    40.341389 -111.71361  40.260787 -111.707982        COBALT   \n1    40.341389 -111.71361  40.260787 -111.707982        NICKEL   \n2    40.341389 -111.71361  40.297058 -111.734076       CADMIUM   \n3    40.341389 -111.71361  40.297058 -111.734076        COBALT   \n4    40.341389 -111.71361  40.297058 -111.734076          LEAD   \n..         ...        ...        ...         ...           ...   \n124  40.902966 -111.88447  40.886022 -111.904759  ETHYLBENZENE   \n125  40.902966 -111.88447  40.886022 -111.904759   NAPHTHALENE   \n126  40.902966 -111.88447  40.886022 -111.904759       STYRENE   \n127  41.842648 -111.85220  41.763580 -111.860270          LEAD   \n128  41.842648 -111.85220  41.771330 -111.848860          LEAD   \n\n               TRIFD  haversine_distance_km  \\\n0    84058BRWNM520W2               8.975232   \n1    84058BRWNM520W2               8.975232   \n2    84057GNVST1600W               5.225845   \n3    84057GNVST1600W               5.225845   \n4    84057GNVST1600W               5.225845   \n..               ...                    ...   \n124  84087PHLLP393SO               2.541275   \n125  84087PHLLP393SO               2.541275   \n126  84087PHLLP393SO               2.541275   \n127  84321NVRNC1073W               8.817370   \n128  8432WGNVRC2151N               7.935030   \n\n                                                  YEAR  \n0                                         [1998, 1999]  \n1    [1991, 1992, 1993, 1994, 1995, 1996, 1997, 199...  \n2                       [1995, 1996, 1997, 1998, 1999]  \n3                                               [1998]  \n4           [1993, 1994, 1995, 1996, 1997, 1998, 1999]  \n..                                                 ...  \n124  [1990, 1991, 1992, 1993, 1994, 1995, 1996, 199...  \n125  [1990, 1991, 1992, 1993, 1994, 1995, 1996, 199...  \n126  [2010, 2011, 2012, 2013, 2014, 2015, 2016, 201...  \n127  [2010, 2011, 2012, 2013, 2014, 2015, 2016, 201...  \n128                                             [2018]  \n\n[129 rows x 8 columns]",
      "text/html": "<div>\n<style scoped>\n    .dataframe tbody tr th:only-of-type {\n        vertical-align: middle;\n    }\n\n    .dataframe tbody tr th {\n        vertical-align: top;\n    }\n\n    .dataframe thead th {\n        text-align: right;\n    }\n</style>\n<table border=\"1\" class=\"dataframe\">\n  <thead>\n    <tr style=\"text-align: right;\">\n      <th></th>\n      <th>EPA_lat</th>\n      <th>EPA_long</th>\n      <th>LATITUDE</th>\n      <th>LONGITUDE</th>\n      <th>CHEMICAL</th>\n      <th>TRIFD</th>\n      <th>haversine_distance_km</th>\n      <th>YEAR</th>\n    </tr>\n  </thead>\n  <tbody>\n    <tr>\n      <th>0</th>\n      <td>40.341389</td>\n      <td>-111.71361</td>\n      <td>40.260787</td>\n      <td>-111.707982</td>\n      <td>COBALT</td>\n      <td>84058BRWNM520W2</td>\n      <td>8.975232</td>\n      <td>[1998, 1999]</td>\n    </tr>\n    <tr>\n      <th>1</th>\n      <td>40.341389</td>\n      <td>-111.71361</td>\n      <td>40.260787</td>\n      <td>-111.707982</td>\n      <td>NICKEL</td>\n      <td>84058BRWNM520W2</td>\n      <td>8.975232</td>\n      <td>[1991, 1992, 1993, 1994, 1995, 1996, 1997, 199...</td>\n    </tr>\n    <tr>\n      <th>2</th>\n      <td>40.341389</td>\n      <td>-111.71361</td>\n      <td>40.297058</td>\n      <td>-111.734076</td>\n      <td>CADMIUM</td>\n      <td>84057GNVST1600W</td>\n      <td>5.225845</td>\n      <td>[1995, 1996, 1997, 1998, 1999]</td>\n    </tr>\n    <tr>\n      <th>3</th>\n      <td>40.341389</td>\n      <td>-111.71361</td>\n      <td>40.297058</td>\n      <td>-111.734076</td>\n      <td>COBALT</td>\n      <td>84057GNVST1600W</td>\n      <td>5.225845</td>\n      <td>[1998]</td>\n    </tr>\n    <tr>\n      <th>4</th>\n      <td>40.341389</td>\n      <td>-111.71361</td>\n      <td>40.297058</td>\n      <td>-111.734076</td>\n      <td>LEAD</td>\n      <td>84057GNVST1600W</td>\n      <td>5.225845</td>\n      <td>[1993, 1994, 1995, 1996, 1997, 1998, 1999]</td>\n    </tr>\n    <tr>\n      <th>...</th>\n      <td>...</td>\n      <td>...</td>\n      <td>...</td>\n      <td>...</td>\n      <td>...</td>\n      <td>...</td>\n      <td>...</td>\n      <td>...</td>\n    </tr>\n    <tr>\n      <th>124</th>\n      <td>40.902966</td>\n      <td>-111.88447</td>\n      <td>40.886022</td>\n      <td>-111.904759</td>\n      <td>ETHYLBENZENE</td>\n      <td>84087PHLLP393SO</td>\n      <td>2.541275</td>\n      <td>[1990, 1991, 1992, 1993, 1994, 1995, 1996, 199...</td>\n    </tr>\n    <tr>\n      <th>125</th>\n      <td>40.902966</td>\n      <td>-111.88447</td>\n      <td>40.886022</td>\n      <td>-111.904759</td>\n      <td>NAPHTHALENE</td>\n      <td>84087PHLLP393SO</td>\n      <td>2.541275</td>\n      <td>[1990, 1991, 1992, 1993, 1994, 1995, 1996, 199...</td>\n    </tr>\n    <tr>\n      <th>126</th>\n      <td>40.902966</td>\n      <td>-111.88447</td>\n      <td>40.886022</td>\n      <td>-111.904759</td>\n      <td>STYRENE</td>\n      <td>84087PHLLP393SO</td>\n      <td>2.541275</td>\n      <td>[2010, 2011, 2012, 2013, 2014, 2015, 2016, 201...</td>\n    </tr>\n    <tr>\n      <th>127</th>\n      <td>41.842648</td>\n      <td>-111.85220</td>\n      <td>41.763580</td>\n      <td>-111.860270</td>\n      <td>LEAD</td>\n      <td>84321NVRNC1073W</td>\n      <td>8.817370</td>\n      <td>[2010, 2011, 2012, 2013, 2014, 2015, 2016, 201...</td>\n    </tr>\n    <tr>\n      <th>128</th>\n      <td>41.842648</td>\n      <td>-111.85220</td>\n      <td>41.771330</td>\n      <td>-111.848860</td>\n      <td>LEAD</td>\n      <td>8432WGNVRC2151N</td>\n      <td>7.935030</td>\n      <td>[2018]</td>\n    </tr>\n  </tbody>\n</table>\n<p>129 rows × 8 columns</p>\n</div>"
     },
     "metadata": {},
     "execution_count": 153
    }
   ],
   "source": [
    "#Cleaning up the dataframes a bit \n",
    "EPA_TRI_merge_by_nearest_sensor = EPA_TRI_merge_by_nearest_sensor[['FRSID',\n",
    "                                                                    'YEAR',\n",
    "                                                                    'TRIFD',\n",
    "                                                                    'CAS#/COMPOUNDID',\n",
    "                                                                    'CHEMICAL',\n",
    "                                                                    'LATITUDE',\n",
    "                                                                    'LONGITUDE',\n",
    "                                                                    'EPA_lat',\n",
    "                                                                    'EPA_long',\n",
    "                                                                    'casnumber',\n",
    "                                                                    'haversine_distance_km']]\n",
    "\n",
    "\n",
    "# Expanding the output so each EPA lat/long ~ sensor ~ showcases the nearest TRI release with distance and years produced\n",
    "EPA_TRI_merge_by_nearest_sensor_loc_agg = EPA_TRI_merge_by_nearest_sensor.groupby(['EPA_lat','EPA_long','LATITUDE','LONGITUDE','CHEMICAL','TRIFD','haversine_distance_km'])['YEAR'].apply(list).reset_index()\n",
    "EPA_TRI_merge_by_nearest_sensor_loc_agg = pd.DataFrame(EPA_TRI_merge_by_nearest_sensor_loc_agg)\n",
    "EPA_TRI_merge_by_nearest_sensor_loc_agg"
   ]
  },
  {
   "cell_type": "code",
   "execution_count": 155,
   "metadata": {},
   "outputs": [],
   "source": [
    "#Saving the Data: \n",
    "EPA_TRI_merge_by_nearest_sensor_loc_agg.to_csv('/home/boogie2/Hanson_Lab/TRI_STILT/data/validation/EPA_validation.csv')"
   ]
  }
 ]
}