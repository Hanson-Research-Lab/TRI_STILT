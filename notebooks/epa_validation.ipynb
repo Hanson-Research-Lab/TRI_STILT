{
 "metadata": {
  "language_info": {
   "codemirror_mode": {
    "name": "ipython",
    "version": 3
   },
   "file_extension": ".py",
   "mimetype": "text/x-python",
   "name": "python",
   "nbconvert_exporter": "python",
   "pygments_lexer": "ipython3",
   "version": "3.7.7-final"
  },
  "orig_nbformat": 2,
  "kernelspec": {
   "name": "python37764bitstiltvenvd0b5b9a6265a460294244206ccd6e7b1",
   "display_name": "Python 3.7.7 64-bit ('stilt': venv)"
  }
 },
 "nbformat": 4,
 "nbformat_minor": 2,
 "cells": [
  {
   "cell_type": "markdown",
   "metadata": {},
   "source": [
    "# TRI Modeling Validation\n",
    "\n",
    "gl\n",
    "<br>\n",
    "09.29.20\n",
    "\n",
    "- only three sensors in reasonable proximity for 90-99 and all lead\n",
    "- want to check the 2000-2018 for potential matches"
   ]
  },
  {
   "cell_type": "code",
   "execution_count": 2,
   "metadata": {},
   "outputs": [],
   "source": [
    "#Libraries\n",
    "import pandas as pd\n",
    "import geopandas as gpd \n",
    "import contextily as ctx\n",
    "import matplotlib.pyplot as plt\n",
    "from math import radians, cos, sin, asin, sqrt"
   ]
  },
  {
   "cell_type": "code",
   "execution_count": 4,
   "metadata": {},
   "outputs": [],
   "source": [
    "#Functions\n",
    "def haversine(lon1, lat1, lon2, lat2):\n",
    "\n",
    "    \"\"\"\n",
    "    Calculate the great circle distance between two points \n",
    "    on the earth (specified in decimal degrees)\n",
    "    \"\"\"\n",
    "    # convert decimal degrees to radians \n",
    "    lon1, lat1, lon2, lat2 = map(radians, [lon1, lat1, lon2, lat2])\n",
    "\n",
    "    # haversine formula \n",
    "    dlon = lon2 - lon1 \n",
    "    dlat = lat2 - lat1 \n",
    "    a = sin(dlat/2)**2 + cos(lat1) * cos(lat2) * sin(dlon/2)**2\n",
    "    c = 2 * asin(sqrt(a)) \n",
    "    r = 6371 # Radius of earth in kilometers. Use 3956 for miles\n",
    "    return c * r"
   ]
  },
  {
   "cell_type": "markdown",
   "metadata": {},
   "source": [
    "## Pulling the sensor data"
   ]
  },
  {
   "cell_type": "code",
   "execution_count": 5,
   "metadata": {
    "tags": []
   },
   "outputs": [
    {
     "output_type": "stream",
     "name": "stdout",
     "text": "Total TRI releases 1990-2018: 2231\n\nTotal number of EPA monitors recording after 1990: 88\n\nEPA tracked chemicals: \nETHYLBENZENE, STYRENE, 1,2-DIBROMOETHANE, 1,3-BUTADIENE, 1,2-DICHLOROETHANE, METHYL ISOBUTYL KETONE, TETRACHLOROETHYLENE, FORMALDEHYDE, CHLOROFORM, BENZENE, LEAD, NICKEL, CADMIUM, COBALT, DICHLOROMETHANE, ETHYLENE OXIDE, TRICHLOROETHYLENE, NAPHTHALENE, CUMENE\n\nUnique EPA Sensor Locations: 12\n"
    }
   ],
   "source": [
    "#Load in TRI data from 1990 - 2018 to look for relevant sensors (run with makefile commands in processed/data_origin.txt)\n",
    "TRI_base_process_90_18_nopubchem_df = pd.read_csv('/home/boogie2/Hanson_Lab/TRI_STILT/data/processed/TRI_base_process_90_18_nopubchem.csv')\n",
    "TRI_base_process_90_18_nopubchem_df = TRI_base_process_90_18_nopubchem_df.drop(columns = ['Unnamed: 0'])\n",
    "\n",
    "#While there may be duplicates in the data, we don't need them for this analysis\n",
    "TRI_base_process_90_18_nopubchem_df = TRI_base_process_90_18_nopubchem_df.drop_duplicates()\n",
    "\n",
    "#Load in EPA monitors data\n",
    "EPA_mon = pd.read_csv('/home/boogie2/Hanson_Lab/TRI_STILT/data/validation/TRIChemicals_Monitors.csv')\n",
    "\n",
    "#Interested in the monitors from 1990 to 2018\n",
    "valid_monitors = EPA_mon[(EPA_mon['first_year']>=1990)]\n",
    "\n",
    "print('Total TRI releases 1990-2018: {0}'.format(TRI_base_process_90_18_nopubchem_df.shape[0]))\n",
    "print('\\nTotal number of EPA monitors recording after 1990: {0}'.format(valid_monitors.shape[0]))\n",
    "print('\\nEPA tracked chemicals: ')\n",
    "print(*valid_monitors['chemicalname'].drop_duplicates().values, sep = \", \")\n",
    "print('\\nUnique EPA Sensor Locations: {}'.format(valid_monitors.drop_duplicates(subset= ['latitude','longitude']).shape[0]))"
   ]
  },
  {
   "cell_type": "code",
   "execution_count": 6,
   "metadata": {},
   "outputs": [],
   "source": [
    "#First need to sort the EPA sensors by ID to see which chemicals are at which facilities\n",
    "valid_monitors['casnumber'] = valid_monitors['casnumber'].str.replace('-','')\n",
    "epa_sensors_locs = valid_monitors.groupby(['latitude','longitude'])['casnumber'].apply(list)\n",
    "epa_sensors_locs = epa_sensors_locs.reset_index()\n",
    "\n",
    "#Gather the CAS numbers for the unique chemicals (EPA sensors)\n",
    "unique_cas = epa_sensors_locs['casnumber'].to_list()\n",
    "unique_cas = [item for sublist in unique_cas for item in sublist]\n",
    "unique_cas =list(dict.fromkeys(unique_cas))"
   ]
  },
  {
   "cell_type": "code",
   "execution_count": 7,
   "metadata": {},
   "outputs": [],
   "source": [
    "#First calculate the TRI emitters which are closest to the origin source AND have chemicals within the list of TRI emitters \n",
    "a= []\n",
    "\n",
    "for idx in range(epa_sensors_locs.shape[0]):\n",
    "    locs = TRI_base_process_90_18_nopubchem_df\n",
    "    temp =epa_sensors_locs.iloc[idx] # This is EPA monitor\n",
    "\n",
    "    #Should be using Haversin because of the rounded nature of the earth\n",
    "    locs['haversine_distance_km']=locs.apply(lambda row : haversine(row['LONGITUDE'],row['LATITUDE'],temp['longitude'],temp['latitude']), axis = 1)\n",
    "\n",
    "    #In order to add multiple entries per each - I think I will just change the iloc here to a boolean based upon distance\n",
    "    matches = locs[locs['CAS#/COMPOUNDID'].isin(epa_sensors_locs['casnumber'].iloc[idx])]\n",
    "    matches = matches[matches.haversine_distance_km<50]\n",
    "    a.append(matches)\n",
    "\n",
    "nearest_ls = pd.concat([epa_sensors_locs.reset_index(),pd.DataFrame(a).reset_index()],axis=1)\n",
    "nearest_ls = nearest_ls.drop(columns=['index'])\n",
    "\n",
    "#Remove any sensors which have no sensors nearby\n",
    "nearest_ls = nearest_ls[nearest_ls[0].apply(lambda x: x.empty)==False]"
   ]
  },
  {
   "cell_type": "code",
   "execution_count": 8,
   "metadata": {},
   "outputs": [],
   "source": [
    "#Converting the list of dataframes into one large dataframe\n",
    "temp_list = []\n",
    "for rows in range(nearest_ls.shape[0]):\n",
    "    temp_df = nearest_ls[0].iloc[rows]\n",
    "    temp_df['EPA_lat'] = nearest_ls['latitude'].iloc[rows]\n",
    "    temp_df['EPA_long'] = nearest_ls['longitude'].iloc[rows]\n",
    "    temp_df['casnumber'] = str(nearest_ls['casnumber'].iloc[rows])\n",
    "    temp_list.append(temp_df)\n",
    "\n",
    "EPA_TRI_merge_by_nearest_sensor = pd.concat(temp_list)\n",
    "EPA_TRI_merge_by_nearest_sensor = EPA_TRI_merge_by_nearest_sensor.dropna(subset=['Group'])"
   ]
  },
  {
   "cell_type": "code",
   "execution_count": 9,
   "metadata": {},
   "outputs": [
    {
     "output_type": "execute_result",
     "data": {
      "text/plain": "       EPA_lat  EPA_long   LATITUDE   LONGITUDE CHEMICAL            TRIFD  \\\n0    37.198299 -113.1506  37.037627 -113.544195     LEAD  84770STKRP1843E   \n1    37.198299 -113.1506  37.043001 -113.532888     LEAD  8479WSNRCC1825E   \n2    37.198299 -113.1506  37.120370 -113.556790   NICKEL  84770STGRG1301E   \n3    37.198299 -113.1506  37.169211 -113.423103     LEAD  8473WSNRCC155NR   \n4    37.459080 -113.2251  37.120370 -113.556790   NICKEL  84770STGRG1301E   \n..         ...       ...        ...         ...      ...              ...   \n593  41.842648 -111.8522  41.763580 -111.860270     LEAD  84321NVRNC1073W   \n594  41.842648 -111.8522  41.771330 -111.848860     LEAD  8432WGNVRC2151N   \n595  41.842648 -111.8522  41.882500 -112.196400  CADMIUM  84330NCRST7285W   \n596  41.842648 -111.8522  41.882500 -112.196400     LEAD  84330NCRST7285W   \n597  41.842648 -111.8522  41.882500 -112.196400   NICKEL  84330NCRST7285W   \n\n     haversine_distance_km                                               YEAR  \n0                39.205851         [2012, 2013, 2014, 2015, 2016, 2017, 2018]  \n1                38.040146                                             [2018]  \n2                37.023942                     [2011, 2012, 2013, 2014, 2015]  \n3                24.356513                                             [2018]  \n4                47.743947                     [2011, 2012, 2013, 2014, 2015]  \n..                     ...                                                ...  \n593               8.817370  [2010, 2011, 2012, 2013, 2014, 2015, 2016, 201...  \n594               7.935030                                             [2018]  \n595              28.846324                                       [1990, 1991]  \n596              28.846324                           [1990, 1991, 1992, 1993]  \n597              28.846324                                             [1993]  \n\n[598 rows x 8 columns]",
      "text/html": "<div>\n<style scoped>\n    .dataframe tbody tr th:only-of-type {\n        vertical-align: middle;\n    }\n\n    .dataframe tbody tr th {\n        vertical-align: top;\n    }\n\n    .dataframe thead th {\n        text-align: right;\n    }\n</style>\n<table border=\"1\" class=\"dataframe\">\n  <thead>\n    <tr style=\"text-align: right;\">\n      <th></th>\n      <th>EPA_lat</th>\n      <th>EPA_long</th>\n      <th>LATITUDE</th>\n      <th>LONGITUDE</th>\n      <th>CHEMICAL</th>\n      <th>TRIFD</th>\n      <th>haversine_distance_km</th>\n      <th>YEAR</th>\n    </tr>\n  </thead>\n  <tbody>\n    <tr>\n      <th>0</th>\n      <td>37.198299</td>\n      <td>-113.1506</td>\n      <td>37.037627</td>\n      <td>-113.544195</td>\n      <td>LEAD</td>\n      <td>84770STKRP1843E</td>\n      <td>39.205851</td>\n      <td>[2012, 2013, 2014, 2015, 2016, 2017, 2018]</td>\n    </tr>\n    <tr>\n      <th>1</th>\n      <td>37.198299</td>\n      <td>-113.1506</td>\n      <td>37.043001</td>\n      <td>-113.532888</td>\n      <td>LEAD</td>\n      <td>8479WSNRCC1825E</td>\n      <td>38.040146</td>\n      <td>[2018]</td>\n    </tr>\n    <tr>\n      <th>2</th>\n      <td>37.198299</td>\n      <td>-113.1506</td>\n      <td>37.120370</td>\n      <td>-113.556790</td>\n      <td>NICKEL</td>\n      <td>84770STGRG1301E</td>\n      <td>37.023942</td>\n      <td>[2011, 2012, 2013, 2014, 2015]</td>\n    </tr>\n    <tr>\n      <th>3</th>\n      <td>37.198299</td>\n      <td>-113.1506</td>\n      <td>37.169211</td>\n      <td>-113.423103</td>\n      <td>LEAD</td>\n      <td>8473WSNRCC155NR</td>\n      <td>24.356513</td>\n      <td>[2018]</td>\n    </tr>\n    <tr>\n      <th>4</th>\n      <td>37.459080</td>\n      <td>-113.2251</td>\n      <td>37.120370</td>\n      <td>-113.556790</td>\n      <td>NICKEL</td>\n      <td>84770STGRG1301E</td>\n      <td>47.743947</td>\n      <td>[2011, 2012, 2013, 2014, 2015]</td>\n    </tr>\n    <tr>\n      <th>...</th>\n      <td>...</td>\n      <td>...</td>\n      <td>...</td>\n      <td>...</td>\n      <td>...</td>\n      <td>...</td>\n      <td>...</td>\n      <td>...</td>\n    </tr>\n    <tr>\n      <th>593</th>\n      <td>41.842648</td>\n      <td>-111.8522</td>\n      <td>41.763580</td>\n      <td>-111.860270</td>\n      <td>LEAD</td>\n      <td>84321NVRNC1073W</td>\n      <td>8.817370</td>\n      <td>[2010, 2011, 2012, 2013, 2014, 2015, 2016, 201...</td>\n    </tr>\n    <tr>\n      <th>594</th>\n      <td>41.842648</td>\n      <td>-111.8522</td>\n      <td>41.771330</td>\n      <td>-111.848860</td>\n      <td>LEAD</td>\n      <td>8432WGNVRC2151N</td>\n      <td>7.935030</td>\n      <td>[2018]</td>\n    </tr>\n    <tr>\n      <th>595</th>\n      <td>41.842648</td>\n      <td>-111.8522</td>\n      <td>41.882500</td>\n      <td>-112.196400</td>\n      <td>CADMIUM</td>\n      <td>84330NCRST7285W</td>\n      <td>28.846324</td>\n      <td>[1990, 1991]</td>\n    </tr>\n    <tr>\n      <th>596</th>\n      <td>41.842648</td>\n      <td>-111.8522</td>\n      <td>41.882500</td>\n      <td>-112.196400</td>\n      <td>LEAD</td>\n      <td>84330NCRST7285W</td>\n      <td>28.846324</td>\n      <td>[1990, 1991, 1992, 1993]</td>\n    </tr>\n    <tr>\n      <th>597</th>\n      <td>41.842648</td>\n      <td>-111.8522</td>\n      <td>41.882500</td>\n      <td>-112.196400</td>\n      <td>NICKEL</td>\n      <td>84330NCRST7285W</td>\n      <td>28.846324</td>\n      <td>[1993]</td>\n    </tr>\n  </tbody>\n</table>\n<p>598 rows × 8 columns</p>\n</div>"
     },
     "metadata": {},
     "execution_count": 9
    }
   ],
   "source": [
    "#Cleaning up the dataframes a bit \n",
    "EPA_TRI_merge_by_nearest_sensor = EPA_TRI_merge_by_nearest_sensor[['FRSID',\n",
    "                                                                    'YEAR',\n",
    "                                                                    'TRIFD',\n",
    "                                                                    'CAS#/COMPOUNDID',\n",
    "                                                                    'CHEMICAL',\n",
    "                                                                    'LATITUDE',\n",
    "                                                                    'LONGITUDE',\n",
    "                                                                    'EPA_lat',\n",
    "                                                                    'EPA_long',\n",
    "                                                                    'casnumber',\n",
    "                                                                    'haversine_distance_km']]\n",
    "\n",
    "\n",
    "# Expanding the output so each EPA lat/long ~ sensor ~ showcases the nearest TRI release with distance and years produced\n",
    "EPA_TRI_merge_by_nearest_sensor_loc_agg = EPA_TRI_merge_by_nearest_sensor.groupby(['EPA_lat','EPA_long','LATITUDE','LONGITUDE','CHEMICAL','TRIFD','haversine_distance_km'])['YEAR'].apply(list).reset_index()\n",
    "EPA_TRI_merge_by_nearest_sensor_loc_agg = pd.DataFrame(EPA_TRI_merge_by_nearest_sensor_loc_agg)\n",
    "EPA_TRI_merge_by_nearest_sensor_loc_agg"
   ]
  },
  {
   "cell_type": "code",
   "execution_count": 10,
   "metadata": {},
   "outputs": [],
   "source": [
    "#Saving the Data: \n",
    "EPA_TRI_merge_by_nearest_sensor_loc_agg.to_csv('/home/boogie2/Hanson_Lab/TRI_STILT/data/validation/EPA_validation_100.csv')"
   ]
  },
  {
   "source": [
    "# Modeling EPA Validation Sensors\n",
    "\n",
    "Joemy merged all EPA sensor data with TRI releases so we can start to validate the model. "
   ],
   "cell_type": "markdown",
   "metadata": {}
  },
  {
   "cell_type": "code",
   "execution_count": 11,
   "metadata": {},
   "outputs": [],
   "source": [
    "#Load the data\n",
    "TRI_validation_df = pd.read_csv('/home/boogie2/Hanson_Lab/TRI_STILT/data/validation/TRI_ValidationSet.csv')"
   ]
  },
  {
   "cell_type": "code",
   "execution_count": 20,
   "metadata": {},
   "outputs": [],
   "source": [
    "#Collecting only those simulations through 2014 because that is where I have NARR data through\n",
    "tri_valid_2014 = TRI_validation_df[TRI_validation_df.year<=2014]\n",
    "\n",
    "#Extracting the unique ids\n",
    "stilt_df = tri_valid_2014[['tri_lat','tri_lon','stackheight','sample_dt']].drop_duplicates()\n",
    "stilt_df.columns = ['lati','long','zagl','run_times']\n",
    "\n",
    "#Save as csv\n",
    "stilt_df.to_csv('/home/boogie2/Hanson_Lab/TRI_STILT/data/validation/092920_epa_valid_2014.csv',index=False)"
   ]
  },
  {
   "cell_type": "code",
   "execution_count": 18,
   "metadata": {},
   "outputs": [
    {
     "output_type": "execute_result",
     "data": {
      "text/plain": "(32963, 4)"
     },
     "metadata": {},
     "execution_count": 18
    }
   ],
   "source": [
    "stilt_df.shape"
   ]
  },
  {
   "cell_type": "code",
   "execution_count": null,
   "metadata": {},
   "outputs": [],
   "source": []
  },
  {
   "cell_type": "code",
   "execution_count": null,
   "metadata": {},
   "outputs": [],
   "source": []
  },
  {
   "cell_type": "code",
   "execution_count": null,
   "metadata": {},
   "outputs": [],
   "source": []
  },
  {
   "cell_type": "code",
   "execution_count": 4,
   "metadata": {},
   "outputs": [
    {
     "output_type": "execute_result",
     "data": {
      "text/plain": "         monitorid    year      latitude     longitude    cas_no   haps_conc  \\\ncount        342.0   342.0  3.420000e+02  3.420000e+02     342.0  342.000000   \nmean   490110004.0  2010.0  4.090290e+01 -1.118845e+02  100425.0    0.233781   \nstd            0.0     0.0  7.115838e-15  1.423168e-14       0.0    0.672109   \nmin    490110004.0  2010.0  4.090290e+01 -1.118845e+02  100425.0    0.007000   \n25%    490110004.0  2010.0  4.090290e+01 -1.118845e+02  100425.0    0.013000   \n50%    490110004.0  2010.0  4.090290e+01 -1.118845e+02  100425.0    0.079000   \n75%    490110004.0  2010.0  4.090290e+01 -1.118845e+02  100425.0    0.139500   \nmax    490110004.0  2010.0  4.090290e+01 -1.118845e+02  100425.0    4.630000   \n\n              frsid           zip     tri_lat     tri_lon  cascompoundid  \\\ncount  3.420000e+02  3.420000e+02  342.000000  342.000000          342.0   \nmean   1.100081e+11  1.402638e+08   40.850004 -112.117043       100425.0   \nstd    1.407497e+07  3.139106e+08    0.126271    0.383589            0.0   \nmin    1.100005e+11  8.401600e+04   40.734402 -112.968100       100425.0   \n25%    1.100005e+11  8.402900e+04   40.742111 -112.033600       100425.0   \n50%    1.100008e+11  8.407050e+04   40.816246 -111.942320       100425.0   \n75%    1.100069e+11  8.410400e+04   40.886021 -111.911160       100425.0   \nmax    1.100391e+11  8.411623e+08   41.105000 -111.904760       100425.0   \n\n       stackheight  stackvelocity  stackdiameter  \ncount   342.000000     342.000000     342.000000  \nmean     14.766666       9.866667       0.766667  \nstd       9.667929       4.818032       0.335487  \nmin       7.700000       2.000000       0.300000  \n25%       9.400000       6.000000       0.600000  \n50%      10.050000      10.200000       0.700000  \n75%      15.800000      15.200000       0.900000  \nmax      35.599998      15.600000       1.400000  ",
      "text/html": "<div>\n<style scoped>\n    .dataframe tbody tr th:only-of-type {\n        vertical-align: middle;\n    }\n\n    .dataframe tbody tr th {\n        vertical-align: top;\n    }\n\n    .dataframe thead th {\n        text-align: right;\n    }\n</style>\n<table border=\"1\" class=\"dataframe\">\n  <thead>\n    <tr style=\"text-align: right;\">\n      <th></th>\n      <th>monitorid</th>\n      <th>year</th>\n      <th>latitude</th>\n      <th>longitude</th>\n      <th>cas_no</th>\n      <th>haps_conc</th>\n      <th>frsid</th>\n      <th>zip</th>\n      <th>tri_lat</th>\n      <th>tri_lon</th>\n      <th>cascompoundid</th>\n      <th>stackheight</th>\n      <th>stackvelocity</th>\n      <th>stackdiameter</th>\n    </tr>\n  </thead>\n  <tbody>\n    <tr>\n      <th>count</th>\n      <td>342.0</td>\n      <td>342.0</td>\n      <td>3.420000e+02</td>\n      <td>3.420000e+02</td>\n      <td>342.0</td>\n      <td>342.000000</td>\n      <td>3.420000e+02</td>\n      <td>3.420000e+02</td>\n      <td>342.000000</td>\n      <td>342.000000</td>\n      <td>342.0</td>\n      <td>342.000000</td>\n      <td>342.000000</td>\n      <td>342.000000</td>\n    </tr>\n    <tr>\n      <th>mean</th>\n      <td>490110004.0</td>\n      <td>2010.0</td>\n      <td>4.090290e+01</td>\n      <td>-1.118845e+02</td>\n      <td>100425.0</td>\n      <td>0.233781</td>\n      <td>1.100081e+11</td>\n      <td>1.402638e+08</td>\n      <td>40.850004</td>\n      <td>-112.117043</td>\n      <td>100425.0</td>\n      <td>14.766666</td>\n      <td>9.866667</td>\n      <td>0.766667</td>\n    </tr>\n    <tr>\n      <th>std</th>\n      <td>0.0</td>\n      <td>0.0</td>\n      <td>7.115838e-15</td>\n      <td>1.423168e-14</td>\n      <td>0.0</td>\n      <td>0.672109</td>\n      <td>1.407497e+07</td>\n      <td>3.139106e+08</td>\n      <td>0.126271</td>\n      <td>0.383589</td>\n      <td>0.0</td>\n      <td>9.667929</td>\n      <td>4.818032</td>\n      <td>0.335487</td>\n    </tr>\n    <tr>\n      <th>min</th>\n      <td>490110004.0</td>\n      <td>2010.0</td>\n      <td>4.090290e+01</td>\n      <td>-1.118845e+02</td>\n      <td>100425.0</td>\n      <td>0.007000</td>\n      <td>1.100005e+11</td>\n      <td>8.401600e+04</td>\n      <td>40.734402</td>\n      <td>-112.968100</td>\n      <td>100425.0</td>\n      <td>7.700000</td>\n      <td>2.000000</td>\n      <td>0.300000</td>\n    </tr>\n    <tr>\n      <th>25%</th>\n      <td>490110004.0</td>\n      <td>2010.0</td>\n      <td>4.090290e+01</td>\n      <td>-1.118845e+02</td>\n      <td>100425.0</td>\n      <td>0.013000</td>\n      <td>1.100005e+11</td>\n      <td>8.402900e+04</td>\n      <td>40.742111</td>\n      <td>-112.033600</td>\n      <td>100425.0</td>\n      <td>9.400000</td>\n      <td>6.000000</td>\n      <td>0.600000</td>\n    </tr>\n    <tr>\n      <th>50%</th>\n      <td>490110004.0</td>\n      <td>2010.0</td>\n      <td>4.090290e+01</td>\n      <td>-1.118845e+02</td>\n      <td>100425.0</td>\n      <td>0.079000</td>\n      <td>1.100008e+11</td>\n      <td>8.407050e+04</td>\n      <td>40.816246</td>\n      <td>-111.942320</td>\n      <td>100425.0</td>\n      <td>10.050000</td>\n      <td>10.200000</td>\n      <td>0.700000</td>\n    </tr>\n    <tr>\n      <th>75%</th>\n      <td>490110004.0</td>\n      <td>2010.0</td>\n      <td>4.090290e+01</td>\n      <td>-1.118845e+02</td>\n      <td>100425.0</td>\n      <td>0.139500</td>\n      <td>1.100069e+11</td>\n      <td>8.410400e+04</td>\n      <td>40.886021</td>\n      <td>-111.911160</td>\n      <td>100425.0</td>\n      <td>15.800000</td>\n      <td>15.200000</td>\n      <td>0.900000</td>\n    </tr>\n    <tr>\n      <th>max</th>\n      <td>490110004.0</td>\n      <td>2010.0</td>\n      <td>4.090290e+01</td>\n      <td>-1.118845e+02</td>\n      <td>100425.0</td>\n      <td>4.630000</td>\n      <td>1.100391e+11</td>\n      <td>8.411623e+08</td>\n      <td>41.105000</td>\n      <td>-111.904760</td>\n      <td>100425.0</td>\n      <td>35.599998</td>\n      <td>15.600000</td>\n      <td>1.400000</td>\n    </tr>\n  </tbody>\n</table>\n</div>"
     },
     "metadata": {},
     "execution_count": 4
    }
   ],
   "source": [
    "#So just for sake of efficiency - let's examine just a subset of the data (i choose styrene in 2010)\n",
    "styrene = TRI_validation_df[(TRI_validation_df.parametername == 'STYRENE') & (TRI_validation_df.year == 2010)]\n",
    "styrene.describe()"
   ]
  },
  {
   "source": [
    "Conclusions:\n",
    "\n",
    "1. Styrene data is available in the years 1996, 1999, 2010-17\n",
    "2. There is only a single EPA monitor (40.9029, -111.8845)  but four nearby releasing TRI sites\n",
    "3. Data is available on 57 dates "
   ],
   "cell_type": "markdown",
   "metadata": {}
  },
  {
   "cell_type": "code",
   "execution_count": 5,
   "metadata": {},
   "outputs": [],
   "source": [
    "trifd_of_interest = styrene['trifd'].drop_duplicates().to_list()\n",
    "chems_of_interest = styrene['cas_no'].drop_duplicates().to_list()\n",
    "\n",
    "#Let's filter the data for these trifd's of interest\n",
    "df = pd.read_csv('/home/boogie2/Hanson_Lab/TRI_STILT/data/processed/TRI_valid_2010_2010.csv').drop(columns = 'Unnamed: 0' )\n",
    "\n",
    "df['TRIFD'] = df.TRIFD.astype('string')\n",
    "entries_of_interest = df[(df.TRIFD.isin(trifd_of_interest)) & (df.CAS_No.isin(chems_of_interest))]"
   ]
  },
  {
   "cell_type": "code",
   "execution_count": 6,
   "metadata": {},
   "outputs": [],
   "source": [
    "#Now we should be ready to go\n",
    "entries_of_interest.to_csv('/home/boogie2/Hanson_Lab/TRI_STILT/data/processed/STYRENE_DEMO.csv')"
   ]
  },
  {
   "cell_type": "code",
   "execution_count": 41,
   "metadata": {},
   "outputs": [
    {
     "output_type": "execute_result",
     "data": {
      "text/plain": "['01-02-2010',\n '01-08-2010',\n '01-14-2010',\n '01-20-2010',\n '01-26-2010',\n '02-01-2010',\n '02-07-2010',\n '02-13-2010',\n '02-19-2010',\n '02-25-2010',\n '03-03-2010',\n '03-09-2010',\n '03-15-2010',\n '04-02-2010',\n '04-08-2010',\n '04-14-2010',\n '04-20-2010',\n '04-26-2010',\n '05-02-2010',\n '05-08-2010',\n '05-14-2010',\n '05-20-2010',\n '05-26-2010',\n '06-01-2010',\n '06-07-2010',\n '06-13-2010',\n '06-19-2010',\n '06-25-2010',\n '07-01-2010',\n '07-07-2010',\n '07-13-2010',\n '07-19-2010',\n '07-25-2010',\n '07-31-2010',\n '08-12-2010',\n '08-18-2010',\n '08-24-2010',\n '08-30-2010',\n '09-05-2010',\n '09-11-2010',\n '09-17-2010',\n '09-23-2010',\n '09-29-2010',\n '10-05-2010',\n '10-11-2010',\n '10-17-2010',\n '10-23-2010',\n '10-29-2010',\n '11-04-2010',\n '11-10-2010',\n '11-16-2010',\n '11-22-2010',\n '11-28-2010',\n '12-05-2010',\n '12-10-2010',\n '12-16-2010',\n '12-28-2010']"
     },
     "metadata": {},
     "execution_count": 41
    }
   ],
   "source": [
    "#Which dates do we want to model? (the current setup models on a everyday per year basis)\n",
    "sorted(styrene['sample_dt'].drop_duplicates())"
   ]
  },
  {
   "source": [
    "# Run Simulations"
   ],
   "cell_type": "markdown",
   "metadata": {}
  },
  {
   "cell_type": "code",
   "execution_count": 8,
   "metadata": {},
   "outputs": [],
   "source": [
    "a = pd.read_csv('/home/boogie2/Hanson_Lab/TRI_STILT/data/processed/stilt_output/shapefile/092520_styrene_test.csv')"
   ]
  },
  {
   "cell_type": "code",
   "execution_count": 10,
   "metadata": {},
   "outputs": [
    {
     "output_type": "execute_result",
     "data": {
      "text/plain": "            lat      lon          foot     lbsperday  id  TRI_source_lati  \\\n0        40.745 -111.955  8.489833e-02  9.180184e+00   0        40.742110   \n1        40.745 -111.955  8.489833e-02  9.180184e+00   0        40.742110   \n2        40.745 -111.955  8.489833e-02  9.180184e+00   0        40.742110   \n3        40.745 -111.955  8.489833e-02  9.180184e+00   0        40.742110   \n4        40.755 -111.955  7.312495e-02  7.907112e+00   0        40.742110   \n...         ...      ...           ...           ...  ..              ...   \n3503612  42.055 -109.045  8.670778e-07  1.187778e-08   7        40.886022   \n3503613  42.055 -109.035  8.645237e-07  1.184279e-08   7        40.886022   \n3503614  42.055 -109.025  8.593766e-07  1.177228e-08   7        40.886022   \n3503615  42.055 -109.015  8.519328e-07  1.167031e-08   7        40.886022   \n3503616  42.055 -109.005  8.423852e-07  1.153952e-08   7        40.886022   \n\n         TRI_source_long  zagl Chemical  Release (lbs/year)  YEAR  \\\n0            -111.958020   9.4  STYRENE             39468.0  2010   \n1            -111.958020   9.4  STYRENE             39468.0  2010   \n2            -111.958020   9.4  STYRENE             39468.0  2010   \n3            -111.958020   9.4  STYRENE             39468.0  2010   \n4            -111.958020   9.4  STYRENE             39468.0  2010   \n...                  ...   ...      ...                 ...   ...   \n3503612      -111.904759   0.0  STYRENE                 5.0  2010   \n3503613      -111.904759   0.0  STYRENE                 5.0  2010   \n3503614      -111.904759   0.0  STYRENE                 5.0  2010   \n3503615      -111.904759   0.0  STYRENE                 5.0  2010   \n3503616      -111.904759   0.0  STYRENE                 5.0  2010   \n\n                                           ss_name  \\\n0        201001060000_-111.95802_40.74211_9.4_foot   \n1        201002060000_-111.95802_40.74211_9.4_foot   \n2        201005260000_-111.95802_40.74211_9.4_foot   \n3        201001290000_-111.95802_40.74211_9.4_foot   \n4        201001060000_-111.95802_40.74211_9.4_foot   \n...                                            ...   \n3503612  201007200000_-111.904759_40.886022_0_foot   \n3503613  201007200000_-111.904759_40.886022_0_foot   \n3503614  201007200000_-111.904759_40.886022_0_foot   \n3503615  201007200000_-111.904759_40.886022_0_foot   \n3503616  201007200000_-111.904759_40.886022_0_foot   \n\n                                                   ss_path       ss_date  \n0        data/processed/stilt_output/netcdf/092520_styr...  201001060000  \n1        data/processed/stilt_output/netcdf/092520_styr...  201002060000  \n2        data/processed/stilt_output/netcdf/092520_styr...  201005260000  \n3        data/processed/stilt_output/netcdf/092520_styr...  201001290000  \n4        data/processed/stilt_output/netcdf/092520_styr...  201001060000  \n...                                                    ...           ...  \n3503612  data/processed/stilt_output/netcdf/092520_styr...  201007200000  \n3503613  data/processed/stilt_output/netcdf/092520_styr...  201007200000  \n3503614  data/processed/stilt_output/netcdf/092520_styr...  201007200000  \n3503615  data/processed/stilt_output/netcdf/092520_styr...  201007200000  \n3503616  data/processed/stilt_output/netcdf/092520_styr...  201007200000  \n\n[3503617 rows x 14 columns]",
      "text/html": "<div>\n<style scoped>\n    .dataframe tbody tr th:only-of-type {\n        vertical-align: middle;\n    }\n\n    .dataframe tbody tr th {\n        vertical-align: top;\n    }\n\n    .dataframe thead th {\n        text-align: right;\n    }\n</style>\n<table border=\"1\" class=\"dataframe\">\n  <thead>\n    <tr style=\"text-align: right;\">\n      <th></th>\n      <th>lat</th>\n      <th>lon</th>\n      <th>foot</th>\n      <th>lbsperday</th>\n      <th>id</th>\n      <th>TRI_source_lati</th>\n      <th>TRI_source_long</th>\n      <th>zagl</th>\n      <th>Chemical</th>\n      <th>Release (lbs/year)</th>\n      <th>YEAR</th>\n      <th>ss_name</th>\n      <th>ss_path</th>\n      <th>ss_date</th>\n    </tr>\n  </thead>\n  <tbody>\n    <tr>\n      <th>0</th>\n      <td>40.745</td>\n      <td>-111.955</td>\n      <td>8.489833e-02</td>\n      <td>9.180184e+00</td>\n      <td>0</td>\n      <td>40.742110</td>\n      <td>-111.958020</td>\n      <td>9.4</td>\n      <td>STYRENE</td>\n      <td>39468.0</td>\n      <td>2010</td>\n      <td>201001060000_-111.95802_40.74211_9.4_foot</td>\n      <td>data/processed/stilt_output/netcdf/092520_styr...</td>\n      <td>201001060000</td>\n    </tr>\n    <tr>\n      <th>1</th>\n      <td>40.745</td>\n      <td>-111.955</td>\n      <td>8.489833e-02</td>\n      <td>9.180184e+00</td>\n      <td>0</td>\n      <td>40.742110</td>\n      <td>-111.958020</td>\n      <td>9.4</td>\n      <td>STYRENE</td>\n      <td>39468.0</td>\n      <td>2010</td>\n      <td>201002060000_-111.95802_40.74211_9.4_foot</td>\n      <td>data/processed/stilt_output/netcdf/092520_styr...</td>\n      <td>201002060000</td>\n    </tr>\n    <tr>\n      <th>2</th>\n      <td>40.745</td>\n      <td>-111.955</td>\n      <td>8.489833e-02</td>\n      <td>9.180184e+00</td>\n      <td>0</td>\n      <td>40.742110</td>\n      <td>-111.958020</td>\n      <td>9.4</td>\n      <td>STYRENE</td>\n      <td>39468.0</td>\n      <td>2010</td>\n      <td>201005260000_-111.95802_40.74211_9.4_foot</td>\n      <td>data/processed/stilt_output/netcdf/092520_styr...</td>\n      <td>201005260000</td>\n    </tr>\n    <tr>\n      <th>3</th>\n      <td>40.745</td>\n      <td>-111.955</td>\n      <td>8.489833e-02</td>\n      <td>9.180184e+00</td>\n      <td>0</td>\n      <td>40.742110</td>\n      <td>-111.958020</td>\n      <td>9.4</td>\n      <td>STYRENE</td>\n      <td>39468.0</td>\n      <td>2010</td>\n      <td>201001290000_-111.95802_40.74211_9.4_foot</td>\n      <td>data/processed/stilt_output/netcdf/092520_styr...</td>\n      <td>201001290000</td>\n    </tr>\n    <tr>\n      <th>4</th>\n      <td>40.755</td>\n      <td>-111.955</td>\n      <td>7.312495e-02</td>\n      <td>7.907112e+00</td>\n      <td>0</td>\n      <td>40.742110</td>\n      <td>-111.958020</td>\n      <td>9.4</td>\n      <td>STYRENE</td>\n      <td>39468.0</td>\n      <td>2010</td>\n      <td>201001060000_-111.95802_40.74211_9.4_foot</td>\n      <td>data/processed/stilt_output/netcdf/092520_styr...</td>\n      <td>201001060000</td>\n    </tr>\n    <tr>\n      <th>...</th>\n      <td>...</td>\n      <td>...</td>\n      <td>...</td>\n      <td>...</td>\n      <td>...</td>\n      <td>...</td>\n      <td>...</td>\n      <td>...</td>\n      <td>...</td>\n      <td>...</td>\n      <td>...</td>\n      <td>...</td>\n      <td>...</td>\n      <td>...</td>\n    </tr>\n    <tr>\n      <th>3503612</th>\n      <td>42.055</td>\n      <td>-109.045</td>\n      <td>8.670778e-07</td>\n      <td>1.187778e-08</td>\n      <td>7</td>\n      <td>40.886022</td>\n      <td>-111.904759</td>\n      <td>0.0</td>\n      <td>STYRENE</td>\n      <td>5.0</td>\n      <td>2010</td>\n      <td>201007200000_-111.904759_40.886022_0_foot</td>\n      <td>data/processed/stilt_output/netcdf/092520_styr...</td>\n      <td>201007200000</td>\n    </tr>\n    <tr>\n      <th>3503613</th>\n      <td>42.055</td>\n      <td>-109.035</td>\n      <td>8.645237e-07</td>\n      <td>1.184279e-08</td>\n      <td>7</td>\n      <td>40.886022</td>\n      <td>-111.904759</td>\n      <td>0.0</td>\n      <td>STYRENE</td>\n      <td>5.0</td>\n      <td>2010</td>\n      <td>201007200000_-111.904759_40.886022_0_foot</td>\n      <td>data/processed/stilt_output/netcdf/092520_styr...</td>\n      <td>201007200000</td>\n    </tr>\n    <tr>\n      <th>3503614</th>\n      <td>42.055</td>\n      <td>-109.025</td>\n      <td>8.593766e-07</td>\n      <td>1.177228e-08</td>\n      <td>7</td>\n      <td>40.886022</td>\n      <td>-111.904759</td>\n      <td>0.0</td>\n      <td>STYRENE</td>\n      <td>5.0</td>\n      <td>2010</td>\n      <td>201007200000_-111.904759_40.886022_0_foot</td>\n      <td>data/processed/stilt_output/netcdf/092520_styr...</td>\n      <td>201007200000</td>\n    </tr>\n    <tr>\n      <th>3503615</th>\n      <td>42.055</td>\n      <td>-109.015</td>\n      <td>8.519328e-07</td>\n      <td>1.167031e-08</td>\n      <td>7</td>\n      <td>40.886022</td>\n      <td>-111.904759</td>\n      <td>0.0</td>\n      <td>STYRENE</td>\n      <td>5.0</td>\n      <td>2010</td>\n      <td>201007200000_-111.904759_40.886022_0_foot</td>\n      <td>data/processed/stilt_output/netcdf/092520_styr...</td>\n      <td>201007200000</td>\n    </tr>\n    <tr>\n      <th>3503616</th>\n      <td>42.055</td>\n      <td>-109.005</td>\n      <td>8.423852e-07</td>\n      <td>1.153952e-08</td>\n      <td>7</td>\n      <td>40.886022</td>\n      <td>-111.904759</td>\n      <td>0.0</td>\n      <td>STYRENE</td>\n      <td>5.0</td>\n      <td>2010</td>\n      <td>201007200000_-111.904759_40.886022_0_foot</td>\n      <td>data/processed/stilt_output/netcdf/092520_styr...</td>\n      <td>201007200000</td>\n    </tr>\n  </tbody>\n</table>\n<p>3503617 rows × 14 columns</p>\n</div>"
     },
     "metadata": {},
     "execution_count": 10
    }
   ],
   "source": [
    "a "
   ]
  },
  {
   "cell_type": "code",
   "execution_count": 2,
   "metadata": {},
   "outputs": [],
   "source": [
    "#Let's take a look: \n",
    "styrene_gdf = gpd.read_file('/home/boogie2/Hanson_Lab/TRI_STILT/data/processed/stilt_output/shapefile/092520_styrene')\n",
    "styrene_gdf['ss_date'] = pd.to_datetime(styrene_gdf['ss_date'])"
   ]
  },
  {
   "cell_type": "code",
   "execution_count": 3,
   "metadata": {},
   "outputs": [
    {
     "output_type": "execute_result",
     "data": {
      "text/plain": "(38832, 15)"
     },
     "metadata": {},
     "execution_count": 3
    }
   ],
   "source": [
    "styrene_gdf.shape"
   ]
  },
  {
   "cell_type": "code",
   "execution_count": 42,
   "metadata": {
    "tags": []
   },
   "outputs": [],
   "source": [
    "temp_20100106 = styrene_gdf[styrene_gdf['ss_date']== '2010-01-06']\n",
    "fig, ax = plt.subplots(figsize=(15,15))\n",
    "temp_20100106[temp_20100106.lbsperday>0.1].plot(column = 'lbsperday',ax = ax,alpha = 0.5,markersize=5)\n",
    "ctx.add_basemap(ax=ax)\n",
    "\n",
    "plt.close()"
   ]
  },
  {
   "cell_type": "code",
   "execution_count": 38,
   "metadata": {},
   "outputs": [
    {
     "output_type": "execute_result",
     "data": {
      "text/plain": "       TRI_source  TRI_sour_1\n0       40.742110 -111.958020\n14992   40.786392 -111.911163\n25782   41.105000 -112.033600\n28400   40.734400 -112.968100\n32116   40.886022 -111.904759\n32168   40.846100 -111.926620",
      "text/html": "<div>\n<style scoped>\n    .dataframe tbody tr th:only-of-type {\n        vertical-align: middle;\n    }\n\n    .dataframe tbody tr th {\n        vertical-align: top;\n    }\n\n    .dataframe thead th {\n        text-align: right;\n    }\n</style>\n<table border=\"1\" class=\"dataframe\">\n  <thead>\n    <tr style=\"text-align: right;\">\n      <th></th>\n      <th>TRI_source</th>\n      <th>TRI_sour_1</th>\n    </tr>\n  </thead>\n  <tbody>\n    <tr>\n      <th>0</th>\n      <td>40.742110</td>\n      <td>-111.958020</td>\n    </tr>\n    <tr>\n      <th>14992</th>\n      <td>40.786392</td>\n      <td>-111.911163</td>\n    </tr>\n    <tr>\n      <th>25782</th>\n      <td>41.105000</td>\n      <td>-112.033600</td>\n    </tr>\n    <tr>\n      <th>28400</th>\n      <td>40.734400</td>\n      <td>-112.968100</td>\n    </tr>\n    <tr>\n      <th>32116</th>\n      <td>40.886022</td>\n      <td>-111.904759</td>\n    </tr>\n    <tr>\n      <th>32168</th>\n      <td>40.846100</td>\n      <td>-111.926620</td>\n    </tr>\n  </tbody>\n</table>\n</div>"
     },
     "metadata": {},
     "execution_count": 38
    }
   ],
   "source": [
    "styrene_gdf[['TRI_source','TRI_sour_1']].drop_duplicates()"
   ]
  },
  {
   "cell_type": "code",
   "execution_count": 37,
   "metadata": {},
   "outputs": [
    {
     "output_type": "execute_result",
     "data": {
      "text/plain": "          lat      lon      foot  lbsperday  id  TRI_source  TRI_sour_1  zagl  \\\n0      40.745 -111.955  0.084898   9.180184   0    40.74211  -111.95802   9.4   \n4      40.755 -111.955  0.073125   7.907112   0    40.74211  -111.95802   9.4   \n8      40.755 -111.945  0.069022   7.463464   0    40.74211  -111.95802   9.4   \n12     40.765 -111.945  0.147847  15.986922   0    40.74211  -111.95802   9.4   \n16     40.765 -111.935  0.003443   0.372280   0    40.74211  -111.95802   9.4   \n...       ...      ...       ...        ...  ..         ...         ...   ...   \n14972  40.945 -112.365  0.001034   0.111794   0    40.74211  -111.95802   9.4   \n14976  40.945 -112.355  0.001060   0.114596   0    40.74211  -111.95802   9.4   \n14980  40.945 -112.345  0.001065   0.115107   0    40.74211  -111.95802   9.4   \n14984  40.945 -112.335  0.001046   0.113152   0    40.74211  -111.95802   9.4   \n14988  40.945 -112.325  0.001009   0.109134   0    40.74211  -111.95802   9.4   \n\n      Chemical  Release (l  YEAR                                    ss_name  \\\n0      STYRENE     39468.0  2010  201001060000_-111.95802_40.74211_9.4_foot   \n4      STYRENE     39468.0  2010  201001060000_-111.95802_40.74211_9.4_foot   \n8      STYRENE     39468.0  2010  201001060000_-111.95802_40.74211_9.4_foot   \n12     STYRENE     39468.0  2010  201001060000_-111.95802_40.74211_9.4_foot   \n16     STYRENE     39468.0  2010  201001060000_-111.95802_40.74211_9.4_foot   \n...        ...         ...   ...                                        ...   \n14972  STYRENE     39468.0  2010  201001060000_-111.95802_40.74211_9.4_foot   \n14976  STYRENE     39468.0  2010  201001060000_-111.95802_40.74211_9.4_foot   \n14980  STYRENE     39468.0  2010  201001060000_-111.95802_40.74211_9.4_foot   \n14984  STYRENE     39468.0  2010  201001060000_-111.95802_40.74211_9.4_foot   \n14988  STYRENE     39468.0  2010  201001060000_-111.95802_40.74211_9.4_foot   \n\n                                                 ss_path    ss_date  \\\n0      data/processed/stilt_output/netcdf/092520_styr... 2010-01-06   \n4      data/processed/stilt_output/netcdf/092520_styr... 2010-01-06   \n8      data/processed/stilt_output/netcdf/092520_styr... 2010-01-06   \n12     data/processed/stilt_output/netcdf/092520_styr... 2010-01-06   \n16     data/processed/stilt_output/netcdf/092520_styr... 2010-01-06   \n...                                                  ...        ...   \n14972  data/processed/stilt_output/netcdf/092520_styr... 2010-01-06   \n14976  data/processed/stilt_output/netcdf/092520_styr... 2010-01-06   \n14980  data/processed/stilt_output/netcdf/092520_styr... 2010-01-06   \n14984  data/processed/stilt_output/netcdf/092520_styr... 2010-01-06   \n14988  data/processed/stilt_output/netcdf/092520_styr... 2010-01-06   \n\n                                geometry  \n0      POINT (-12462773.592 4974801.670)  \n4      POINT (-12462773.592 4976271.108)  \n8      POINT (-12461660.397 4976271.108)  \n12     POINT (-12461660.397 4977740.767)  \n16     POINT (-12460547.202 4977740.767)  \n...                                  ...  \n14972  POINT (-12508414.583 5004232.558)  \n14976  POINT (-12507301.388 5004232.558)  \n14980  POINT (-12506188.193 5004232.558)  \n14984  POINT (-12505074.998 5004232.558)  \n14988  POINT (-12503961.803 5004232.558)  \n\n[3748 rows x 15 columns]",
      "text/html": "<div>\n<style scoped>\n    .dataframe tbody tr th:only-of-type {\n        vertical-align: middle;\n    }\n\n    .dataframe tbody tr th {\n        vertical-align: top;\n    }\n\n    .dataframe thead th {\n        text-align: right;\n    }\n</style>\n<table border=\"1\" class=\"dataframe\">\n  <thead>\n    <tr style=\"text-align: right;\">\n      <th></th>\n      <th>lat</th>\n      <th>lon</th>\n      <th>foot</th>\n      <th>lbsperday</th>\n      <th>id</th>\n      <th>TRI_source</th>\n      <th>TRI_sour_1</th>\n      <th>zagl</th>\n      <th>Chemical</th>\n      <th>Release (l</th>\n      <th>YEAR</th>\n      <th>ss_name</th>\n      <th>ss_path</th>\n      <th>ss_date</th>\n      <th>geometry</th>\n    </tr>\n  </thead>\n  <tbody>\n    <tr>\n      <th>0</th>\n      <td>40.745</td>\n      <td>-111.955</td>\n      <td>0.084898</td>\n      <td>9.180184</td>\n      <td>0</td>\n      <td>40.74211</td>\n      <td>-111.95802</td>\n      <td>9.4</td>\n      <td>STYRENE</td>\n      <td>39468.0</td>\n      <td>2010</td>\n      <td>201001060000_-111.95802_40.74211_9.4_foot</td>\n      <td>data/processed/stilt_output/netcdf/092520_styr...</td>\n      <td>2010-01-06</td>\n      <td>POINT (-12462773.592 4974801.670)</td>\n    </tr>\n    <tr>\n      <th>4</th>\n      <td>40.755</td>\n      <td>-111.955</td>\n      <td>0.073125</td>\n      <td>7.907112</td>\n      <td>0</td>\n      <td>40.74211</td>\n      <td>-111.95802</td>\n      <td>9.4</td>\n      <td>STYRENE</td>\n      <td>39468.0</td>\n      <td>2010</td>\n      <td>201001060000_-111.95802_40.74211_9.4_foot</td>\n      <td>data/processed/stilt_output/netcdf/092520_styr...</td>\n      <td>2010-01-06</td>\n      <td>POINT (-12462773.592 4976271.108)</td>\n    </tr>\n    <tr>\n      <th>8</th>\n      <td>40.755</td>\n      <td>-111.945</td>\n      <td>0.069022</td>\n      <td>7.463464</td>\n      <td>0</td>\n      <td>40.74211</td>\n      <td>-111.95802</td>\n      <td>9.4</td>\n      <td>STYRENE</td>\n      <td>39468.0</td>\n      <td>2010</td>\n      <td>201001060000_-111.95802_40.74211_9.4_foot</td>\n      <td>data/processed/stilt_output/netcdf/092520_styr...</td>\n      <td>2010-01-06</td>\n      <td>POINT (-12461660.397 4976271.108)</td>\n    </tr>\n    <tr>\n      <th>12</th>\n      <td>40.765</td>\n      <td>-111.945</td>\n      <td>0.147847</td>\n      <td>15.986922</td>\n      <td>0</td>\n      <td>40.74211</td>\n      <td>-111.95802</td>\n      <td>9.4</td>\n      <td>STYRENE</td>\n      <td>39468.0</td>\n      <td>2010</td>\n      <td>201001060000_-111.95802_40.74211_9.4_foot</td>\n      <td>data/processed/stilt_output/netcdf/092520_styr...</td>\n      <td>2010-01-06</td>\n      <td>POINT (-12461660.397 4977740.767)</td>\n    </tr>\n    <tr>\n      <th>16</th>\n      <td>40.765</td>\n      <td>-111.935</td>\n      <td>0.003443</td>\n      <td>0.372280</td>\n      <td>0</td>\n      <td>40.74211</td>\n      <td>-111.95802</td>\n      <td>9.4</td>\n      <td>STYRENE</td>\n      <td>39468.0</td>\n      <td>2010</td>\n      <td>201001060000_-111.95802_40.74211_9.4_foot</td>\n      <td>data/processed/stilt_output/netcdf/092520_styr...</td>\n      <td>2010-01-06</td>\n      <td>POINT (-12460547.202 4977740.767)</td>\n    </tr>\n    <tr>\n      <th>...</th>\n      <td>...</td>\n      <td>...</td>\n      <td>...</td>\n      <td>...</td>\n      <td>...</td>\n      <td>...</td>\n      <td>...</td>\n      <td>...</td>\n      <td>...</td>\n      <td>...</td>\n      <td>...</td>\n      <td>...</td>\n      <td>...</td>\n      <td>...</td>\n      <td>...</td>\n    </tr>\n    <tr>\n      <th>14972</th>\n      <td>40.945</td>\n      <td>-112.365</td>\n      <td>0.001034</td>\n      <td>0.111794</td>\n      <td>0</td>\n      <td>40.74211</td>\n      <td>-111.95802</td>\n      <td>9.4</td>\n      <td>STYRENE</td>\n      <td>39468.0</td>\n      <td>2010</td>\n      <td>201001060000_-111.95802_40.74211_9.4_foot</td>\n      <td>data/processed/stilt_output/netcdf/092520_styr...</td>\n      <td>2010-01-06</td>\n      <td>POINT (-12508414.583 5004232.558)</td>\n    </tr>\n    <tr>\n      <th>14976</th>\n      <td>40.945</td>\n      <td>-112.355</td>\n      <td>0.001060</td>\n      <td>0.114596</td>\n      <td>0</td>\n      <td>40.74211</td>\n      <td>-111.95802</td>\n      <td>9.4</td>\n      <td>STYRENE</td>\n      <td>39468.0</td>\n      <td>2010</td>\n      <td>201001060000_-111.95802_40.74211_9.4_foot</td>\n      <td>data/processed/stilt_output/netcdf/092520_styr...</td>\n      <td>2010-01-06</td>\n      <td>POINT (-12507301.388 5004232.558)</td>\n    </tr>\n    <tr>\n      <th>14980</th>\n      <td>40.945</td>\n      <td>-112.345</td>\n      <td>0.001065</td>\n      <td>0.115107</td>\n      <td>0</td>\n      <td>40.74211</td>\n      <td>-111.95802</td>\n      <td>9.4</td>\n      <td>STYRENE</td>\n      <td>39468.0</td>\n      <td>2010</td>\n      <td>201001060000_-111.95802_40.74211_9.4_foot</td>\n      <td>data/processed/stilt_output/netcdf/092520_styr...</td>\n      <td>2010-01-06</td>\n      <td>POINT (-12506188.193 5004232.558)</td>\n    </tr>\n    <tr>\n      <th>14984</th>\n      <td>40.945</td>\n      <td>-112.335</td>\n      <td>0.001046</td>\n      <td>0.113152</td>\n      <td>0</td>\n      <td>40.74211</td>\n      <td>-111.95802</td>\n      <td>9.4</td>\n      <td>STYRENE</td>\n      <td>39468.0</td>\n      <td>2010</td>\n      <td>201001060000_-111.95802_40.74211_9.4_foot</td>\n      <td>data/processed/stilt_output/netcdf/092520_styr...</td>\n      <td>2010-01-06</td>\n      <td>POINT (-12505074.998 5004232.558)</td>\n    </tr>\n    <tr>\n      <th>14988</th>\n      <td>40.945</td>\n      <td>-112.325</td>\n      <td>0.001009</td>\n      <td>0.109134</td>\n      <td>0</td>\n      <td>40.74211</td>\n      <td>-111.95802</td>\n      <td>9.4</td>\n      <td>STYRENE</td>\n      <td>39468.0</td>\n      <td>2010</td>\n      <td>201001060000_-111.95802_40.74211_9.4_foot</td>\n      <td>data/processed/stilt_output/netcdf/092520_styr...</td>\n      <td>2010-01-06</td>\n      <td>POINT (-12503961.803 5004232.558)</td>\n    </tr>\n  </tbody>\n</table>\n<p>3748 rows × 15 columns</p>\n</div>"
     },
     "metadata": {},
     "execution_count": 37
    }
   ],
   "source": [
    "temp_20100106"
   ]
  },
  {
   "cell_type": "code",
   "execution_count": null,
   "metadata": {},
   "outputs": [],
   "source": []
  }
 ]
}